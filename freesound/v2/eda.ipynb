{
 "cells": [
  {
   "cell_type": "code",
   "execution_count": 3,
   "metadata": {
    "collapsed": true
   },
   "outputs": [],
   "source": [
    "import pandas as pd\n",
    "import numpy as np\n",
    "\n",
    "\n",
    "train_df = pd.read_csv('./data/train.csv')\n",
    "test_df = pd.read_csv('./data/sample_submission.csv')"
   ]
  },
  {
   "cell_type": "code",
   "execution_count": 4,
   "outputs": [
    {
     "data": {
      "text/plain": "          fname         label  manually_verified\n0  00044347.wav        Hi-hat                  0\n1  001ca53d.wav     Saxophone                  1\n2  002d256b.wav       Trumpet                  0\n3  0033e230.wav  Glockenspiel                  1\n4  00353774.wav         Cello                  1",
      "text/html": "<div>\n<style scoped>\n    .dataframe tbody tr th:only-of-type {\n        vertical-align: middle;\n    }\n\n    .dataframe tbody tr th {\n        vertical-align: top;\n    }\n\n    .dataframe thead th {\n        text-align: right;\n    }\n</style>\n<table border=\"1\" class=\"dataframe\">\n  <thead>\n    <tr style=\"text-align: right;\">\n      <th></th>\n      <th>fname</th>\n      <th>label</th>\n      <th>manually_verified</th>\n    </tr>\n  </thead>\n  <tbody>\n    <tr>\n      <th>0</th>\n      <td>00044347.wav</td>\n      <td>Hi-hat</td>\n      <td>0</td>\n    </tr>\n    <tr>\n      <th>1</th>\n      <td>001ca53d.wav</td>\n      <td>Saxophone</td>\n      <td>1</td>\n    </tr>\n    <tr>\n      <th>2</th>\n      <td>002d256b.wav</td>\n      <td>Trumpet</td>\n      <td>0</td>\n    </tr>\n    <tr>\n      <th>3</th>\n      <td>0033e230.wav</td>\n      <td>Glockenspiel</td>\n      <td>1</td>\n    </tr>\n    <tr>\n      <th>4</th>\n      <td>00353774.wav</td>\n      <td>Cello</td>\n      <td>1</td>\n    </tr>\n  </tbody>\n</table>\n</div>"
     },
     "execution_count": 4,
     "metadata": {},
     "output_type": "execute_result"
    }
   ],
   "source": [
    "train_df.head()"
   ],
   "metadata": {
    "collapsed": false,
    "pycharm": {
     "name": "#%%\n"
    }
   }
  },
  {
   "cell_type": "code",
   "execution_count": 5,
   "outputs": [
    {
     "data": {
      "text/plain": "          fname                  label\n0  00063640.wav  Laughter Hi-Hat Flute\n1  0013a1db.wav  Laughter Hi-Hat Flute\n2  002bb878.wav  Laughter Hi-Hat Flute\n3  002d392d.wav  Laughter Hi-Hat Flute\n4  00326aa9.wav  Laughter Hi-Hat Flute",
      "text/html": "<div>\n<style scoped>\n    .dataframe tbody tr th:only-of-type {\n        vertical-align: middle;\n    }\n\n    .dataframe tbody tr th {\n        vertical-align: top;\n    }\n\n    .dataframe thead th {\n        text-align: right;\n    }\n</style>\n<table border=\"1\" class=\"dataframe\">\n  <thead>\n    <tr style=\"text-align: right;\">\n      <th></th>\n      <th>fname</th>\n      <th>label</th>\n    </tr>\n  </thead>\n  <tbody>\n    <tr>\n      <th>0</th>\n      <td>00063640.wav</td>\n      <td>Laughter Hi-Hat Flute</td>\n    </tr>\n    <tr>\n      <th>1</th>\n      <td>0013a1db.wav</td>\n      <td>Laughter Hi-Hat Flute</td>\n    </tr>\n    <tr>\n      <th>2</th>\n      <td>002bb878.wav</td>\n      <td>Laughter Hi-Hat Flute</td>\n    </tr>\n    <tr>\n      <th>3</th>\n      <td>002d392d.wav</td>\n      <td>Laughter Hi-Hat Flute</td>\n    </tr>\n    <tr>\n      <th>4</th>\n      <td>00326aa9.wav</td>\n      <td>Laughter Hi-Hat Flute</td>\n    </tr>\n  </tbody>\n</table>\n</div>"
     },
     "execution_count": 5,
     "metadata": {},
     "output_type": "execute_result"
    }
   ],
   "source": [
    "test_df.head()"
   ],
   "metadata": {
    "collapsed": false,
    "pycharm": {
     "name": "#%%\n"
    }
   }
  },
  {
   "cell_type": "code",
   "execution_count": 6,
   "outputs": [
    {
     "data": {
      "text/plain": "0"
     },
     "execution_count": 6,
     "metadata": {},
     "output_type": "execute_result"
    }
   ],
   "source": [
    "train_df.fname.isin(test_df.fname).sum()"
   ],
   "metadata": {
    "collapsed": false,
    "pycharm": {
     "name": "#%%\n"
    }
   }
  },
  {
   "cell_type": "code",
   "execution_count": 7,
   "outputs": [
    {
     "data": {
      "text/plain": "(9473, 9473)"
     },
     "execution_count": 7,
     "metadata": {},
     "output_type": "execute_result"
    }
   ],
   "source": [
    "import os\n",
    "\n",
    "train_f = os.listdir('./data/audio_train')\n",
    "test_f = os.listdir('./data/audio_test')\n",
    "\n",
    "len(train_df), train_df.fname.isin(train_f).sum()"
   ],
   "metadata": {
    "collapsed": false,
    "pycharm": {
     "name": "#%%\n"
    }
   }
  },
  {
   "cell_type": "code",
   "execution_count": 8,
   "outputs": [
    {
     "data": {
      "text/plain": "(9400, 9400)"
     },
     "execution_count": 8,
     "metadata": {},
     "output_type": "execute_result"
    }
   ],
   "source": [
    "len(test_df), test_df.fname.isin(test_f).sum()"
   ],
   "metadata": {
    "collapsed": false,
    "pycharm": {
     "name": "#%%\n"
    }
   }
  },
  {
   "cell_type": "code",
   "execution_count": 9,
   "outputs": [
    {
     "data": {
      "text/plain": "[('75923738.wav', 26504), ('6aaff359.wav', 28268), ('6a30339c.wav', 28268)]"
     },
     "execution_count": 9,
     "metadata": {},
     "output_type": "execute_result"
    }
   ],
   "source": [
    "train_fs = [(f, os.stat(f'./data/audio_train/{f}').st_size) for f in train_f]\n",
    "sorted(train_fs, key=lambda x: x[1])[:3]"
   ],
   "metadata": {
    "collapsed": false,
    "pycharm": {
     "name": "#%%\n"
    }
   }
  },
  {
   "cell_type": "code",
   "execution_count": 10,
   "outputs": [
    {
     "data": {
      "text/plain": "[('b39975f5.wav', 44),\n ('6ea0099f.wav', 44),\n ('0b0427e2.wav', 44),\n ('ab02c784.wav', 26504),\n ('d593ed57.wav', 26504)]"
     },
     "execution_count": 10,
     "metadata": {},
     "output_type": "execute_result"
    }
   ],
   "source": [
    "# size 44 bytes - header size(empty wav)\n",
    "test_fs = [(f, os.stat(f'./data/audio_test/{f}').st_size) for f in test_f]\n",
    "sorted(test_fs, key=lambda x: x[1])[:5]"
   ],
   "metadata": {
    "collapsed": false,
    "pycharm": {
     "name": "#%%\n"
    }
   }
  },
  {
   "cell_type": "code",
   "execution_count": 11,
   "outputs": [
    {
     "name": "stdout",
     "output_type": "stream",
     "text": [
      "Train ...\r\n",
      "New dir, ./data/audio_train_trim\r\n",
      "  0%|                                                  | 0/9473 [00:00<?, ?it/s]"
     ]
    }
   ],
   "source": [
    "# step 1.\n",
    "!python -W ignore trim_data.py"
   ],
   "metadata": {
    "collapsed": false,
    "pycharm": {
     "name": "#%%\n"
    }
   }
  },
  {
   "cell_type": "code",
   "execution_count": null,
   "outputs": [],
   "source": [
    "# step 2.\n",
    "!python -W ignore extract_features.py"
   ],
   "metadata": {
    "collapsed": false,
    "pycharm": {
     "name": "#%%\n",
     "is_executing": true
    }
   }
  },
  {
   "cell_type": "code",
   "execution_count": null,
   "outputs": [],
   "source": [
    "import os\n",
    "print('train:', len(os.listdir('./data/audio_train_logmel/')))\n",
    "print('test:', len(os.listdir('./data/audio_test_logmel/')))"
   ],
   "metadata": {
    "collapsed": false,
    "pycharm": {
     "name": "#%%\n",
     "is_executing": true
    }
   }
  },
  {
   "cell_type": "code",
   "execution_count": null,
   "outputs": [],
   "source": [
    "# check parameters\n",
    "from v2.config import DefaultConfig\n",
    "print(DefaultConfig().logmel)"
   ],
   "metadata": {
    "collapsed": false,
    "pycharm": {
     "name": "#%%\n",
     "is_executing": true
    }
   }
  },
  {
   "cell_type": "code",
   "execution_count": null,
   "outputs": [],
   "source": [
    "# example of padding\n",
    "import os\n",
    "import numpy as np\n",
    "files = os.listdir('data/audio_train_logmel')\n",
    "for f in files[:10]:\n",
    "    x = np.load(os.path.join('data/audio_train_logmel', f))\n",
    "    x = np.pad(x, ((0, 0), (0, 0), (0, max(0, 150 - x.shape[2]))), mode='constant')\n",
    "    print(x.shape)"
   ],
   "metadata": {
    "collapsed": false,
    "pycharm": {
     "name": "#%%\n",
     "is_executing": true
    }
   }
  },
  {
   "cell_type": "code",
   "execution_count": null,
   "outputs": [],
   "source": [
    "# testing dataloaders\n",
    "!python dataloader.py"
   ],
   "metadata": {
    "collapsed": false,
    "pycharm": {
     "name": "#%%\n",
     "is_executing": true
    }
   }
  },
  {
   "cell_type": "code",
   "execution_count": null,
   "outputs": [],
   "source": [
    "# testing dataloaders\n",
    "from v2.config import DefaultConfig\n",
    "from v2.dataloader import stratified_loaders\n",
    "for i, dl in enumerate(stratified_loaders(DefaultConfig()), 1):\n",
    "    print(f'fold {i}')\n",
    "    x, y = next(iter(dl['train']))\n",
    "    print(x.size(), y.size())\n",
    "    x, y = next(iter(dl['val']))\n",
    "    print(x.size(), y.size())\n",
    "    x = next(iter(dl['test']))\n",
    "    print(x.size())"
   ],
   "metadata": {
    "collapsed": false,
    "pycharm": {
     "name": "#%%\n",
     "is_executing": true
    }
   }
  },
  {
   "cell_type": "code",
   "execution_count": null,
   "outputs": [],
   "source": [
    "# check parameters\n",
    "from v2.config import DefaultConfig\n",
    "print(DefaultConfig().dataloader)"
   ],
   "metadata": {
    "collapsed": false,
    "pycharm": {
     "name": "#%%\n",
     "is_executing": true
    }
   }
  },
  {
   "cell_type": "code",
   "execution_count": null,
   "outputs": [],
   "source": [
    "# check model in/out\n",
    "!python model.py"
   ],
   "metadata": {
    "collapsed": false,
    "pycharm": {
     "name": "#%%\n",
     "is_executing": true
    }
   }
  },
  {
   "cell_type": "code",
   "execution_count": null,
   "outputs": [],
   "source": [
    "from v2.config import DefaultConfig\n",
    "conf = DefaultConfig()\n",
    "d = conf.to_dict()\n",
    "print(d['train']['optim']['optimizer']['sgd'])\n",
    "print(d['train']['optim']['scheduler']['cosine_annealing'])"
   ],
   "metadata": {
    "collapsed": false,
    "pycharm": {
     "name": "#%%\n",
     "is_executing": true
    }
   }
  },
  {
   "cell_type": "code",
   "execution_count": 1,
   "outputs": [
    {
     "name": "stdout",
     "output_type": "stream",
     "text": [
      "GPU available: True, used: True\r\n",
      "TPU available: False, using: 0 TPU cores\r\n",
      "CUDA_VISIBLE_DEVICES: [0]\r\n",
      "Using native 16bit precision.\r\n",
      "\r\n",
      "  | Name  | Type           | Params\r\n",
      "-----------------------------------------\r\n",
      "0 | model | ResNetFinetune | 23 M  \r\n",
      "Epoch 1:  80%|██▍| 60/75 [00:12<00:03,  4.73it/s, loss=191468.438, v_num=fold_1]\r\n",
      "Validating: 0it [00:00, ?it/s]\u001B[A\r\n",
      "Epoch 1:  81%|██▍| 61/75 [00:12<00:02,  4.70it/s, loss=191468.438, v_num=fold_1]\u001B[A\r\n",
      "Epoch 1:  84%|██▌| 63/75 [00:13<00:02,  4.80it/s, loss=191468.438, v_num=fold_1]\u001B[A\r\n",
      "Epoch 1:  87%|██▌| 65/75 [00:13<00:02,  4.90it/s, loss=191468.438, v_num=fold_1]\u001B[A\r\n",
      "Epoch 1:  89%|██▋| 67/75 [00:13<00:01,  4.98it/s, loss=191468.438, v_num=fold_1]\u001B[A\r\n",
      "Epoch 1:  92%|██▊| 69/75 [00:13<00:01,  5.07it/s, loss=191468.438, v_num=fold_1]\u001B[A\r\n",
      "Epoch 1:  95%|██▊| 71/75 [00:13<00:00,  5.16it/s, loss=191468.438, v_num=fold_1]\u001B[A\r\n",
      "Epoch 1:  97%|██▉| 73/75 [00:13<00:00,  5.25it/s, loss=191468.438, v_num=fold_1]\u001B[A\r\n",
      "Epoch 1: 100%|███| 75/75 [00:14<00:00,  5.22it/s, loss=191468.438, v_num=fold_1]\u001B[A\r\n",
      "Epoch 2:  80%|██▍| 60/75 [00:12<00:03,  4.66it/s, loss=163681.453, v_num=fold_1]\u001B[A\r\n",
      "Validating: 0it [00:00, ?it/s]\u001B[A\r\n",
      "Epoch 2:  83%|██▍| 62/75 [00:13<00:02,  4.67it/s, loss=163681.453, v_num=fold_1]\u001B[A\r\n",
      "Epoch 2:  85%|██▌| 64/75 [00:13<00:02,  4.76it/s, loss=163681.453, v_num=fold_1]\u001B[A\r\n",
      "Epoch 2:  88%|██▋| 66/75 [00:13<00:01,  4.85it/s, loss=163681.453, v_num=fold_1]\u001B[A\r\n",
      "Epoch 2:  91%|██▋| 68/75 [00:13<00:01,  4.94it/s, loss=163681.453, v_num=fold_1]\u001B[A\r\n",
      "Epoch 2:  93%|██▊| 70/75 [00:13<00:00,  5.03it/s, loss=163681.453, v_num=fold_1]\u001B[A\r\n",
      "Epoch 2:  96%|██▉| 72/75 [00:14<00:00,  5.12it/s, loss=163681.453, v_num=fold_1]\u001B[A\r\n",
      "Epoch 2:  99%|██▉| 74/75 [00:14<00:00,  5.20it/s, loss=163681.453, v_num=fold_1]\u001B[A\r\n",
      "Epoch 2: 100%|███| 75/75 [00:14<00:00,  5.12it/s, loss=163681.453, v_num=fold_1]\u001B[A\r\n",
      "Epoch 3:  80%|██▍| 60/75 [00:13<00:03,  4.58it/s, loss=151970.484, v_num=fold_1]\u001B[A\r\n",
      "Validating: 0it [00:00, ?it/s]\u001B[A\r\n",
      "Epoch 3:  83%|██▍| 62/75 [00:13<00:02,  4.60it/s, loss=151970.484, v_num=fold_1]\u001B[A\r\n",
      "Epoch 3:  85%|██▌| 64/75 [00:13<00:02,  4.69it/s, loss=151970.484, v_num=fold_1]\u001B[A\r\n",
      "Epoch 3:  88%|██▋| 66/75 [00:13<00:01,  4.79it/s, loss=151970.484, v_num=fold_1]\u001B[A\r\n",
      "Epoch 3:  91%|██▋| 68/75 [00:13<00:01,  4.88it/s, loss=151970.484, v_num=fold_1]\u001B[A\r\n",
      "Epoch 3:  93%|██▊| 70/75 [00:14<00:01,  4.96it/s, loss=151970.484, v_num=fold_1]\u001B[A\r\n",
      "Epoch 3:  96%|██▉| 72/75 [00:14<00:00,  5.05it/s, loss=151970.484, v_num=fold_1]\u001B[A\r\n",
      "Epoch 3:  99%|██▉| 74/75 [00:14<00:00,  5.13it/s, loss=151970.484, v_num=fold_1]\u001B[A\r\n",
      "Epoch 3: 100%|███| 75/75 [00:14<00:00,  5.07it/s, loss=151970.484, v_num=fold_1]\u001B[A\r\n",
      "Epoch 4:  80%|██▍| 60/75 [00:12<00:03,  4.64it/s, loss=129685.211, v_num=fold_1]\u001B[A\r\n",
      "Validating: 0it [00:00, ?it/s]\u001B[A\r\n",
      "Epoch 4:  83%|██▍| 62/75 [00:13<00:02,  4.66it/s, loss=129685.211, v_num=fold_1]\u001B[A\r\n",
      "Epoch 4:  85%|██▌| 64/75 [00:13<00:02,  4.76it/s, loss=129685.211, v_num=fold_1]\u001B[A\r\n",
      "Epoch 4:  88%|██▋| 66/75 [00:13<00:01,  4.84it/s, loss=129685.211, v_num=fold_1]\u001B[A\r\n",
      "Epoch 4:  91%|██▋| 68/75 [00:13<00:01,  4.93it/s, loss=129685.211, v_num=fold_1]\u001B[A\r\n",
      "Epoch 4:  93%|██▊| 70/75 [00:13<00:00,  5.02it/s, loss=129685.211, v_num=fold_1]\u001B[A\r\n",
      "Epoch 4:  96%|██▉| 72/75 [00:14<00:00,  5.11it/s, loss=129685.211, v_num=fold_1]\u001B[A\r\n",
      "Epoch 4:  99%|██▉| 74/75 [00:14<00:00,  5.19it/s, loss=129685.211, v_num=fold_1]\u001B[A\r\n",
      "Epoch 4: 100%|███| 75/75 [00:14<00:00,  5.12it/s, loss=129685.211, v_num=fold_1]\u001B[A\r\n",
      "Epoch 5:  80%|██▍| 60/75 [00:12<00:03,  4.74it/s, loss=124151.750, v_num=fold_1]\u001B[A\r\n",
      "Validating: 0it [00:00, ?it/s]\u001B[A\r\n",
      "Epoch 5:  83%|██▍| 62/75 [00:13<00:02,  4.76it/s, loss=124151.750, v_num=fold_1]\u001B[A\r\n",
      "Epoch 5:  85%|██▌| 64/75 [00:13<00:02,  4.86it/s, loss=124151.750, v_num=fold_1]\u001B[A\r\n",
      "Epoch 5:  88%|██▋| 66/75 [00:13<00:01,  4.95it/s, loss=124151.750, v_num=fold_1]\u001B[A\r\n",
      "Epoch 5:  91%|██▋| 68/75 [00:13<00:01,  5.04it/s, loss=124151.750, v_num=fold_1]\u001B[A\r\n",
      "Epoch 5:  93%|██▊| 70/75 [00:13<00:00,  5.13it/s, loss=124151.750, v_num=fold_1]\u001B[A\r\n",
      "Epoch 5:  96%|██▉| 72/75 [00:13<00:00,  5.22it/s, loss=124151.750, v_num=fold_1]\u001B[A\r\n",
      "Epoch 5:  99%|██▉| 74/75 [00:13<00:00,  5.30it/s, loss=124151.750, v_num=fold_1]\u001B[A\r\n",
      "Epoch 5: 100%|███| 75/75 [00:14<00:00,  5.23it/s, loss=124151.750, v_num=fold_1]\u001B[A\r\n",
      "Epoch 6:  80%|███▏| 60/75 [00:12<00:03,  4.70it/s, loss=66236.227, v_num=fold_1]\u001B[A\r\n",
      "Validating: 0it [00:00, ?it/s]\u001B[A\r\n",
      "Epoch 6:  83%|███▎| 62/75 [00:13<00:02,  4.73it/s, loss=66236.227, v_num=fold_1]\u001B[A\r\n",
      "Epoch 6:  85%|███▍| 64/75 [00:13<00:02,  4.82it/s, loss=66236.227, v_num=fold_1]\u001B[A\r\n",
      "Epoch 6:  88%|███▌| 66/75 [00:13<00:01,  4.91it/s, loss=66236.227, v_num=fold_1]\u001B[A\r\n",
      "Epoch 6:  91%|███▋| 68/75 [00:13<00:01,  5.01it/s, loss=66236.227, v_num=fold_1]\u001B[A\r\n",
      "Epoch 6:  93%|███▋| 70/75 [00:13<00:00,  5.10it/s, loss=66236.227, v_num=fold_1]\u001B[A\r\n",
      "Epoch 6:  96%|███▊| 72/75 [00:13<00:00,  5.19it/s, loss=66236.227, v_num=fold_1]\u001B[A\r\n",
      "Epoch 6:  99%|███▉| 74/75 [00:14<00:00,  5.28it/s, loss=66236.227, v_num=fold_1]\u001B[A\r\n",
      "Epoch 6: 100%|████| 75/75 [00:14<00:00,  5.20it/s, loss=66236.227, v_num=fold_1]\u001B[A\r\n",
      "Epoch 7:  80%|███▏| 60/75 [00:12<00:03,  4.69it/s, loss=59938.312, v_num=fold_1]\u001B[A\r\n",
      "Validating: 0it [00:00, ?it/s]\u001B[A\r\n",
      "Epoch 7:  83%|███▎| 62/75 [00:13<00:02,  4.71it/s, loss=59938.312, v_num=fold_1]\u001B[A\r\n",
      "Epoch 7:  85%|███▍| 64/75 [00:13<00:02,  4.81it/s, loss=59938.312, v_num=fold_1]\u001B[A\r\n",
      "Epoch 7:  88%|███▌| 66/75 [00:13<00:01,  4.90it/s, loss=59938.312, v_num=fold_1]\u001B[A\r\n",
      "Epoch 7:  91%|███▋| 68/75 [00:13<00:01,  4.99it/s, loss=59938.312, v_num=fold_1]\u001B[A\r\n",
      "Epoch 7:  93%|███▋| 70/75 [00:13<00:00,  5.08it/s, loss=59938.312, v_num=fold_1]\u001B[A\r\n",
      "Epoch 7:  96%|███▊| 72/75 [00:13<00:00,  5.16it/s, loss=59938.312, v_num=fold_1]\u001B[A\r\n",
      "Epoch 7:  99%|███▉| 74/75 [00:14<00:00,  5.25it/s, loss=59938.312, v_num=fold_1]\u001B[A\r\n",
      "Epoch 7: 100%|████| 75/75 [00:14<00:00,  5.17it/s, loss=59938.312, v_num=fold_1]\u001B[A\r\n",
      "Epoch 8:  80%|███▏| 60/75 [00:12<00:03,  4.69it/s, loss=63069.023, v_num=fold_1]\u001B[A\r\n",
      "Validating: 0it [00:00, ?it/s]\u001B[A\r\n",
      "Epoch 8:  83%|███▎| 62/75 [00:13<00:02,  4.69it/s, loss=63069.023, v_num=fold_1]\u001B[A\r\n",
      "Epoch 8:  85%|███▍| 64/75 [00:13<00:02,  4.78it/s, loss=63069.023, v_num=fold_1]\u001B[A\r\n",
      "Epoch 8:  88%|███▌| 66/75 [00:13<00:01,  4.87it/s, loss=63069.023, v_num=fold_1]\u001B[A\r\n",
      "Epoch 8:  91%|███▋| 68/75 [00:13<00:01,  4.97it/s, loss=63069.023, v_num=fold_1]\u001B[A\r\n",
      "Epoch 8:  93%|███▋| 70/75 [00:13<00:00,  5.06it/s, loss=63069.023, v_num=fold_1]\u001B[A\r\n",
      "Epoch 8:  96%|███▊| 72/75 [00:14<00:00,  5.14it/s, loss=63069.023, v_num=fold_1]\u001B[A\r\n",
      "Epoch 8:  99%|███▉| 74/75 [00:14<00:00,  5.23it/s, loss=63069.023, v_num=fold_1]\u001B[A\r\n",
      "Epoch 8: 100%|████| 75/75 [00:14<00:00,  5.14it/s, loss=63069.023, v_num=fold_1]\u001B[A\r\n",
      "Epoch 9:  80%|███▏| 60/75 [00:12<00:03,  4.65it/s, loss=56992.801, v_num=fold_1]\u001B[A\r\n",
      "Validating: 0it [00:00, ?it/s]\u001B[A\r\n",
      "Epoch 9:  83%|███▎| 62/75 [00:13<00:02,  4.67it/s, loss=56992.801, v_num=fold_1]\u001B[A\r\n",
      "Epoch 9:  85%|███▍| 64/75 [00:13<00:02,  4.76it/s, loss=56992.801, v_num=fold_1]\u001B[A\r\n",
      "Epoch 9:  88%|███▌| 66/75 [00:13<00:01,  4.86it/s, loss=56992.801, v_num=fold_1]\u001B[A\r\n",
      "Epoch 9:  91%|███▋| 68/75 [00:13<00:01,  4.95it/s, loss=56992.801, v_num=fold_1]\u001B[A\r\n",
      "Epoch 9:  93%|███▋| 70/75 [00:13<00:00,  5.04it/s, loss=56992.801, v_num=fold_1]\u001B[A\r\n",
      "Epoch 9:  96%|███▊| 72/75 [00:14<00:00,  5.13it/s, loss=56992.801, v_num=fold_1]\u001B[A\r\n",
      "Epoch 9:  99%|███▉| 74/75 [00:14<00:00,  5.21it/s, loss=56992.801, v_num=fold_1]\u001B[A\r\n",
      "Epoch 9: 100%|████| 75/75 [00:14<00:00,  5.24it/s, loss=56992.801, v_num=fold_1]\u001B[A\r\n",
      "Epoch 10:  80%|██▍| 60/75 [00:12<00:03,  4.67it/s, loss=56559.562, v_num=fold_1]\u001B[A\r\n",
      "Validating: 0it [00:00, ?it/s]\u001B[A\r\n",
      "Epoch 10:  83%|██▍| 62/75 [00:13<00:02,  4.69it/s, loss=56559.562, v_num=fold_1]\u001B[A\r\n",
      "Epoch 10:  85%|██▌| 64/75 [00:13<00:02,  4.78it/s, loss=56559.562, v_num=fold_1]\u001B[A\r\n",
      "Epoch 10:  88%|██▋| 66/75 [00:13<00:01,  4.87it/s, loss=56559.562, v_num=fold_1]\u001B[A\r\n",
      "Epoch 10:  91%|██▋| 68/75 [00:13<00:01,  4.96it/s, loss=56559.562, v_num=fold_1]\u001B[A\r\n",
      "Epoch 10:  93%|██▊| 70/75 [00:13<00:00,  5.05it/s, loss=56559.562, v_num=fold_1]\u001B[A\r\n",
      "Epoch 10:  96%|██▉| 72/75 [00:14<00:00,  5.14it/s, loss=56559.562, v_num=fold_1]\u001B[A\r\n",
      "Epoch 10:  99%|██▉| 74/75 [00:14<00:00,  5.22it/s, loss=56559.562, v_num=fold_1]\u001B[A\r\n",
      "Epoch 10: 100%|███| 75/75 [00:14<00:00,  5.25it/s, loss=56559.562, v_num=fold_1]\u001B[A\r\n",
      "Epoch 11:  80%|██▍| 60/75 [00:12<00:03,  4.77it/s, loss=53213.324, v_num=fold_1]\u001B[A\r\n",
      "Validating: 0it [00:00, ?it/s]\u001B[A\r\n",
      "Epoch 11:  83%|██▍| 62/75 [00:12<00:02,  4.79it/s, loss=53213.324, v_num=fold_1]\u001B[A\r\n",
      "Epoch 11:  85%|██▌| 64/75 [00:13<00:02,  4.89it/s, loss=53213.324, v_num=fold_1]\u001B[A\r\n",
      "Epoch 11:  88%|██▋| 66/75 [00:13<00:01,  4.98it/s, loss=53213.324, v_num=fold_1]\u001B[A\r\n",
      "Epoch 11:  91%|██▋| 68/75 [00:13<00:01,  5.08it/s, loss=53213.324, v_num=fold_1]\u001B[A\r\n",
      "Epoch 11:  93%|██▊| 70/75 [00:13<00:00,  5.17it/s, loss=53213.324, v_num=fold_1]\u001B[A\r\n",
      "Epoch 11:  96%|██▉| 72/75 [00:13<00:00,  5.26it/s, loss=53213.324, v_num=fold_1]\u001B[A\r\n",
      "Epoch 11:  99%|██▉| 74/75 [00:13<00:00,  5.35it/s, loss=53213.324, v_num=fold_1]\u001B[A\r\n",
      "Epoch 11: 100%|███| 75/75 [00:14<00:00,  5.27it/s, loss=53213.324, v_num=fold_1]\u001B[A\r\n",
      "Epoch 12:  80%|██▍| 60/75 [00:12<00:03,  4.68it/s, loss=49645.414, v_num=fold_1]\u001B[A\r\n",
      "Validating: 0it [00:00, ?it/s]\u001B[A\r\n",
      "Epoch 12:  83%|██▍| 62/75 [00:13<00:02,  4.70it/s, loss=49645.414, v_num=fold_1]\u001B[A\r\n",
      "Epoch 12:  85%|██▌| 64/75 [00:13<00:02,  4.79it/s, loss=49645.414, v_num=fold_1]\u001B[A\r\n",
      "Epoch 12:  88%|██▋| 66/75 [00:13<00:01,  4.89it/s, loss=49645.414, v_num=fold_1]\u001B[A\r\n",
      "Epoch 12:  91%|██▋| 68/75 [00:13<00:01,  4.98it/s, loss=49645.414, v_num=fold_1]\u001B[A\r\n",
      "Epoch 12:  93%|██▊| 70/75 [00:13<00:00,  5.07it/s, loss=49645.414, v_num=fold_1]\u001B[A\r\n",
      "Epoch 12:  96%|██▉| 72/75 [00:13<00:00,  5.16it/s, loss=49645.414, v_num=fold_1]\u001B[A\r\n",
      "Epoch 12:  99%|██▉| 74/75 [00:14<00:00,  5.25it/s, loss=49645.414, v_num=fold_1]\u001B[A\r\n",
      "Epoch 12: 100%|███| 75/75 [00:14<00:00,  5.27it/s, loss=49645.414, v_num=fold_1]\u001B[A\r\n",
      "Epoch 13:  80%|██▍| 60/75 [00:12<00:03,  4.80it/s, loss=54071.613, v_num=fold_1]\u001B[A\r\n",
      "Validating: 0it [00:00, ?it/s]\u001B[A\r\n",
      "Epoch 13:  83%|██▍| 62/75 [00:12<00:02,  4.82it/s, loss=54071.613, v_num=fold_1]\u001B[A\r\n",
      "Epoch 13:  85%|██▌| 64/75 [00:13<00:02,  4.92it/s, loss=54071.613, v_num=fold_1]\u001B[A\r\n",
      "Epoch 13:  88%|██▋| 66/75 [00:13<00:01,  5.01it/s, loss=54071.613, v_num=fold_1]\u001B[A\r\n",
      "Epoch 13:  91%|██▋| 68/75 [00:13<00:01,  5.11it/s, loss=54071.613, v_num=fold_1]\u001B[A\r\n",
      "Epoch 13:  93%|██▊| 70/75 [00:13<00:00,  5.20it/s, loss=54071.613, v_num=fold_1]\u001B[A\r\n",
      "Epoch 13:  96%|██▉| 72/75 [00:13<00:00,  5.29it/s, loss=54071.613, v_num=fold_1]\u001B[A\r\n",
      "Epoch 13:  99%|██▉| 74/75 [00:13<00:00,  5.37it/s, loss=54071.613, v_num=fold_1]\u001B[A\r\n",
      "Epoch 13: 100%|███| 75/75 [00:13<00:00,  5.40it/s, loss=54071.613, v_num=fold_1]\u001B[A\r\n",
      "Epoch 14:  80%|██▍| 60/75 [00:12<00:03,  4.73it/s, loss=49793.148, v_num=fold_1]\u001B[A\r\n",
      "Validating: 0it [00:00, ?it/s]\u001B[A\r\n",
      "Epoch 14:  83%|██▍| 62/75 [00:13<00:02,  4.75it/s, loss=49793.148, v_num=fold_1]\u001B[A\r\n",
      "Epoch 14:  85%|██▌| 64/75 [00:13<00:02,  4.85it/s, loss=49793.148, v_num=fold_1]\u001B[A\r\n",
      "Epoch 14:  88%|██▋| 66/75 [00:13<00:01,  4.94it/s, loss=49793.148, v_num=fold_1]\u001B[A\r\n",
      "Epoch 14:  91%|██▋| 68/75 [00:13<00:01,  5.03it/s, loss=49793.148, v_num=fold_1]\u001B[A\r\n",
      "Epoch 14:  93%|██▊| 70/75 [00:13<00:00,  5.12it/s, loss=49793.148, v_num=fold_1]\u001B[A\r\n",
      "Epoch 14:  96%|██▉| 72/75 [00:13<00:00,  5.21it/s, loss=49793.148, v_num=fold_1]\u001B[A\r\n",
      "Epoch 14:  99%|██▉| 74/75 [00:13<00:00,  5.29it/s, loss=49793.148, v_num=fold_1]\u001B[A\r\n",
      "Epoch 14: 100%|███| 75/75 [00:14<00:00,  5.22it/s, loss=49793.148, v_num=fold_1]\u001B[A\r\n",
      "Epoch 15:  80%|██▍| 60/75 [00:12<00:03,  4.63it/s, loss=48146.762, v_num=fold_1]\u001B[A\r\n",
      "Validating: 0it [00:00, ?it/s]\u001B[A\r\n",
      "Epoch 15:  83%|██▍| 62/75 [00:13<00:02,  4.65it/s, loss=48146.762, v_num=fold_1]\u001B[A\r\n",
      "Epoch 15:  85%|██▌| 64/75 [00:13<00:02,  4.74it/s, loss=48146.762, v_num=fold_1]\u001B[A\r\n",
      "Epoch 15:  88%|██▋| 66/75 [00:13<00:01,  4.83it/s, loss=48146.762, v_num=fold_1]\u001B[A\r\n",
      "Epoch 15:  91%|██▋| 68/75 [00:13<00:01,  4.92it/s, loss=48146.762, v_num=fold_1]\u001B[A\r\n",
      "Epoch 15:  93%|██▊| 70/75 [00:13<00:00,  5.01it/s, loss=48146.762, v_num=fold_1]\u001B[A\r\n",
      "Epoch 15:  96%|██▉| 72/75 [00:14<00:00,  5.10it/s, loss=48146.762, v_num=fold_1]\u001B[A\r\n",
      "Epoch 15:  99%|██▉| 74/75 [00:14<00:00,  5.18it/s, loss=48146.762, v_num=fold_1]\u001B[A\r\n",
      "Epoch 15: 100%|███| 75/75 [00:14<00:00,  5.11it/s, loss=48146.762, v_num=fold_1]\u001B[A\r\n",
      "Epoch 16:  80%|██▍| 60/75 [00:12<00:03,  4.79it/s, loss=45928.258, v_num=fold_1]\u001B[A\r\n",
      "Validating: 0it [00:00, ?it/s]\u001B[A\r\n",
      "Epoch 16:  83%|██▍| 62/75 [00:12<00:02,  4.80it/s, loss=45928.258, v_num=fold_1]\u001B[A\r\n",
      "Epoch 16:  85%|██▌| 64/75 [00:13<00:02,  4.90it/s, loss=45928.258, v_num=fold_1]\u001B[A\r\n",
      "Epoch 16:  88%|██▋| 66/75 [00:13<00:01,  5.00it/s, loss=45928.258, v_num=fold_1]\u001B[A\r\n",
      "Epoch 16:  91%|██▋| 68/75 [00:13<00:01,  5.09it/s, loss=45928.258, v_num=fold_1]\u001B[A\r\n",
      "Epoch 16:  93%|██▊| 70/75 [00:13<00:00,  5.18it/s, loss=45928.258, v_num=fold_1]\u001B[A\r\n",
      "Epoch 16:  96%|██▉| 72/75 [00:13<00:00,  5.27it/s, loss=45928.258, v_num=fold_1]\u001B[A\r\n",
      "Epoch 16:  99%|██▉| 74/75 [00:13<00:00,  5.36it/s, loss=45928.258, v_num=fold_1]\u001B[A\r\n",
      "Epoch 16: 100%|███| 75/75 [00:13<00:00,  5.39it/s, loss=45928.258, v_num=fold_1]\u001B[A\r\n",
      "Epoch 17:  80%|██▍| 60/75 [00:12<00:03,  4.81it/s, loss=50606.422, v_num=fold_1]\u001B[A\r\n",
      "Validating: 0it [00:00, ?it/s]\u001B[A\r\n",
      "Epoch 17:  83%|██▍| 62/75 [00:12<00:02,  4.82it/s, loss=50606.422, v_num=fold_1]\u001B[A\r\n",
      "Epoch 17:  85%|██▌| 64/75 [00:13<00:02,  4.92it/s, loss=50606.422, v_num=fold_1]\u001B[A\r\n",
      "Epoch 17:  88%|██▋| 66/75 [00:13<00:01,  5.01it/s, loss=50606.422, v_num=fold_1]\u001B[A\r\n",
      "Epoch 17:  91%|██▋| 68/75 [00:13<00:01,  5.11it/s, loss=50606.422, v_num=fold_1]\u001B[A\r\n",
      "Epoch 17:  93%|██▊| 70/75 [00:13<00:00,  5.20it/s, loss=50606.422, v_num=fold_1]\u001B[A\r\n",
      "Epoch 17:  96%|██▉| 72/75 [00:13<00:00,  5.29it/s, loss=50606.422, v_num=fold_1]\u001B[A\r\n",
      "Epoch 17:  99%|██▉| 74/75 [00:13<00:00,  5.38it/s, loss=50606.422, v_num=fold_1]\u001B[A\r\n",
      "Epoch 17: 100%|███| 75/75 [00:13<00:00,  5.40it/s, loss=50606.422, v_num=fold_1]\u001B[A\r\n",
      "Epoch 18:  80%|██▍| 60/75 [00:12<00:03,  4.78it/s, loss=41658.461, v_num=fold_1]\u001B[A\r\n",
      "Validating: 0it [00:00, ?it/s]\u001B[A\r\n",
      "Epoch 18:  83%|██▍| 62/75 [00:12<00:02,  4.79it/s, loss=41658.461, v_num=fold_1]\u001B[A\r\n",
      "Epoch 18:  85%|██▌| 64/75 [00:13<00:02,  4.88it/s, loss=41658.461, v_num=fold_1]\u001B[A\r\n",
      "Epoch 18:  88%|██▋| 66/75 [00:13<00:01,  4.97it/s, loss=41658.461, v_num=fold_1]\u001B[A\r\n",
      "Epoch 18:  91%|██▋| 68/75 [00:13<00:01,  5.07it/s, loss=41658.461, v_num=fold_1]\u001B[A\r\n",
      "Epoch 18:  93%|██▊| 70/75 [00:13<00:00,  5.16it/s, loss=41658.461, v_num=fold_1]\u001B[A\r\n",
      "Epoch 18:  96%|██▉| 72/75 [00:13<00:00,  5.24it/s, loss=41658.461, v_num=fold_1]\u001B[A\r\n",
      "Epoch 18:  99%|██▉| 74/75 [00:13<00:00,  5.33it/s, loss=41658.461, v_num=fold_1]\u001B[A\r\n",
      "Epoch 18: 100%|███| 75/75 [00:14<00:00,  5.25it/s, loss=41658.461, v_num=fold_1]\u001B[A\r\n",
      "Epoch 19:  80%|██▍| 60/75 [00:12<00:03,  4.64it/s, loss=53357.414, v_num=fold_1]\u001B[A\r\n",
      "Validating: 0it [00:00, ?it/s]\u001B[A\r\n",
      "Epoch 19:  83%|██▍| 62/75 [00:13<00:02,  4.66it/s, loss=53357.414, v_num=fold_1]\u001B[A\r\n",
      "Epoch 19:  85%|██▌| 64/75 [00:13<00:02,  4.76it/s, loss=53357.414, v_num=fold_1]\u001B[A\r\n",
      "Epoch 19:  88%|██▋| 66/75 [00:13<00:01,  4.85it/s, loss=53357.414, v_num=fold_1]\u001B[A\r\n",
      "Epoch 19:  91%|██▋| 68/75 [00:13<00:01,  4.94it/s, loss=53357.414, v_num=fold_1]\u001B[A\r\n",
      "Epoch 19:  93%|██▊| 70/75 [00:13<00:00,  5.03it/s, loss=53357.414, v_num=fold_1]\u001B[A\r\n",
      "Epoch 19:  96%|██▉| 72/75 [00:14<00:00,  5.11it/s, loss=53357.414, v_num=fold_1]\u001B[A\r\n",
      "Epoch 19:  99%|██▉| 74/75 [00:14<00:00,  5.20it/s, loss=53357.414, v_num=fold_1]\u001B[A\r\n",
      "Epoch 19: 100%|███| 75/75 [00:14<00:00,  5.23it/s, loss=53357.414, v_num=fold_1]\u001B[A\r\n",
      "Epoch 20:  80%|██▍| 60/75 [00:12<00:03,  4.73it/s, loss=48181.527, v_num=fold_1]\u001B[A\r\n",
      "Validating: 0it [00:00, ?it/s]\u001B[A\r\n",
      "Epoch 20:  83%|██▍| 62/75 [00:13<00:02,  4.75it/s, loss=48181.527, v_num=fold_1]\u001B[A\r\n",
      "Epoch 20:  85%|██▌| 64/75 [00:13<00:02,  4.84it/s, loss=48181.527, v_num=fold_1]\u001B[A\r\n",
      "Epoch 20:  88%|██▋| 66/75 [00:13<00:01,  4.94it/s, loss=48181.527, v_num=fold_1]\u001B[A\r\n",
      "Epoch 20:  91%|██▋| 68/75 [00:13<00:01,  5.03it/s, loss=48181.527, v_num=fold_1]\u001B[A\r\n",
      "Epoch 20:  93%|██▊| 70/75 [00:13<00:00,  5.12it/s, loss=48181.527, v_num=fold_1]\u001B[A\r\n",
      "Epoch 20:  96%|██▉| 72/75 [00:13<00:00,  5.21it/s, loss=48181.527, v_num=fold_1]\u001B[A\r\n",
      "Epoch 20:  99%|██▉| 74/75 [00:13<00:00,  5.29it/s, loss=48181.527, v_num=fold_1]\u001B[A\r\n",
      "Epoch 20: 100%|███| 75/75 [00:14<00:00,  5.32it/s, loss=48181.527, v_num=fold_1]\u001B[A\r\n",
      "Epoch 21:  80%|██▍| 60/75 [00:12<00:03,  4.74it/s, loss=52333.691, v_num=fold_1]\u001B[A\r\n",
      "Validating: 0it [00:00, ?it/s]\u001B[A\r\n",
      "Epoch 21:  83%|██▍| 62/75 [00:13<00:02,  4.76it/s, loss=52333.691, v_num=fold_1]\u001B[A\r\n",
      "Epoch 21:  85%|██▌| 64/75 [00:13<00:02,  4.85it/s, loss=52333.691, v_num=fold_1]\u001B[A\r\n",
      "Epoch 21:  88%|██▋| 66/75 [00:13<00:01,  4.94it/s, loss=52333.691, v_num=fold_1]\u001B[A\r\n",
      "Epoch 21:  91%|██▋| 68/75 [00:13<00:01,  5.03it/s, loss=52333.691, v_num=fold_1]\u001B[A\r\n",
      "Epoch 21:  93%|██▊| 70/75 [00:13<00:00,  5.12it/s, loss=52333.691, v_num=fold_1]\u001B[A\r\n",
      "Epoch 21:  96%|██▉| 72/75 [00:13<00:00,  5.21it/s, loss=52333.691, v_num=fold_1]\u001B[A\r\n",
      "Epoch 21:  99%|██▉| 74/75 [00:13<00:00,  5.29it/s, loss=52333.691, v_num=fold_1]\u001B[A\r\n",
      "Epoch 21: 100%|███| 75/75 [00:14<00:00,  5.32it/s, loss=52333.691, v_num=fold_1]\u001B[A\r\n",
      "Epoch 22:  80%|██▍| 60/75 [00:12<00:03,  4.65it/s, loss=48520.574, v_num=fold_1]\u001B[A\r\n",
      "Validating: 0it [00:00, ?it/s]\u001B[A\r\n",
      "Epoch 22:  83%|██▍| 62/75 [00:13<00:02,  4.67it/s, loss=48520.574, v_num=fold_1]\u001B[A\r\n",
      "Epoch 22:  85%|██▌| 64/75 [00:13<00:02,  4.76it/s, loss=48520.574, v_num=fold_1]\u001B[A\r\n",
      "Epoch 22:  88%|██▋| 66/75 [00:13<00:01,  4.86it/s, loss=48520.574, v_num=fold_1]\u001B[A\r\n",
      "Epoch 22:  91%|██▋| 68/75 [00:13<00:01,  4.95it/s, loss=48520.574, v_num=fold_1]\u001B[A\r\n",
      "Epoch 22:  93%|██▊| 70/75 [00:13<00:00,  5.04it/s, loss=48520.574, v_num=fold_1]\u001B[A\r\n",
      "Epoch 22:  96%|██▉| 72/75 [00:14<00:00,  5.13it/s, loss=48520.574, v_num=fold_1]\u001B[A\r\n",
      "Epoch 22:  99%|██▉| 74/75 [00:14<00:00,  5.22it/s, loss=48520.574, v_num=fold_1]\u001B[A\r\n",
      "Epoch 22: 100%|███| 75/75 [00:14<00:00,  5.14it/s, loss=48520.574, v_num=fold_1]\u001B[A\r\n",
      "Epoch 23:  80%|██▍| 60/75 [00:12<00:03,  4.77it/s, loss=49476.117, v_num=fold_1]\u001B[A\r\n",
      "Validating: 0it [00:00, ?it/s]\u001B[A\r\n",
      "Epoch 23:  83%|██▍| 62/75 [00:12<00:02,  4.78it/s, loss=49476.117, v_num=fold_1]\u001B[A\r\n",
      "Epoch 23:  85%|██▌| 64/75 [00:13<00:02,  4.88it/s, loss=49476.117, v_num=fold_1]\u001B[A\r\n",
      "Epoch 23:  88%|██▋| 66/75 [00:13<00:01,  4.97it/s, loss=49476.117, v_num=fold_1]\u001B[A\r\n",
      "Epoch 23:  91%|██▋| 68/75 [00:13<00:01,  5.06it/s, loss=49476.117, v_num=fold_1]\u001B[A\r\n",
      "Epoch 23:  93%|██▊| 70/75 [00:13<00:00,  5.15it/s, loss=49476.117, v_num=fold_1]\u001B[A\r\n",
      "Epoch 23:  96%|██▉| 72/75 [00:13<00:00,  5.24it/s, loss=49476.117, v_num=fold_1]\u001B[A\r\n",
      "Epoch 23:  99%|██▉| 74/75 [00:13<00:00,  5.33it/s, loss=49476.117, v_num=fold_1]\u001B[A\r\n",
      "Epoch 23: 100%|███| 75/75 [00:14<00:00,  5.25it/s, loss=49476.117, v_num=fold_1]\u001B[A\r\n",
      "Epoch 24:  80%|██▍| 60/75 [00:12<00:03,  4.71it/s, loss=47277.969, v_num=fold_1]\u001B[A\r\n",
      "Validating: 0it [00:00, ?it/s]\u001B[A\r\n",
      "Epoch 24:  83%|██▍| 62/75 [00:13<00:02,  4.73it/s, loss=47277.969, v_num=fold_1]\u001B[A\r\n",
      "Epoch 24:  85%|██▌| 64/75 [00:13<00:02,  4.83it/s, loss=47277.969, v_num=fold_1]\u001B[A\r\n",
      "Epoch 24:  88%|██▋| 66/75 [00:13<00:01,  4.92it/s, loss=47277.969, v_num=fold_1]\u001B[A\r\n",
      "Epoch 24:  91%|██▋| 68/75 [00:13<00:01,  5.01it/s, loss=47277.969, v_num=fold_1]\u001B[A\r\n",
      "Epoch 24:  93%|██▊| 70/75 [00:13<00:00,  5.11it/s, loss=47277.969, v_num=fold_1]\u001B[A\r\n",
      "Epoch 24:  96%|██▉| 72/75 [00:13<00:00,  5.20it/s, loss=47277.969, v_num=fold_1]\u001B[A\r\n",
      "Epoch 24:  99%|██▉| 74/75 [00:14<00:00,  5.28it/s, loss=47277.969, v_num=fold_1]\u001B[A\r\n",
      "Epoch 24: 100%|███| 75/75 [00:14<00:00,  5.31it/s, loss=47277.969, v_num=fold_1]\u001B[A\r\n",
      "Epoch 25:  80%|██▍| 60/75 [00:12<00:03,  4.73it/s, loss=39254.121, v_num=fold_1]\u001B[A\r\n",
      "Validating: 0it [00:00, ?it/s]\u001B[A\r\n",
      "Epoch 25:  83%|██▍| 62/75 [00:13<00:02,  4.75it/s, loss=39254.121, v_num=fold_1]\u001B[A\r\n",
      "Epoch 25:  85%|██▌| 64/75 [00:13<00:02,  4.85it/s, loss=39254.121, v_num=fold_1]\u001B[A\r\n",
      "Epoch 25:  88%|██▋| 66/75 [00:13<00:01,  4.94it/s, loss=39254.121, v_num=fold_1]\u001B[A\r\n",
      "Epoch 25:  91%|██▋| 68/75 [00:13<00:01,  5.04it/s, loss=39254.121, v_num=fold_1]\u001B[A\r\n",
      "Epoch 25:  93%|██▊| 70/75 [00:13<00:00,  5.13it/s, loss=39254.121, v_num=fold_1]\u001B[A\r\n",
      "Epoch 25:  96%|██▉| 72/75 [00:13<00:00,  5.22it/s, loss=39254.121, v_num=fold_1]\u001B[A\r\n",
      "Epoch 25:  99%|██▉| 74/75 [00:13<00:00,  5.31it/s, loss=39254.121, v_num=fold_1]\u001B[A\r\n",
      "Epoch 25: 100%|███| 75/75 [00:14<00:00,  5.23it/s, loss=39254.121, v_num=fold_1]\u001B[A\r\n",
      "Epoch 26:  80%|██▍| 60/75 [00:12<00:03,  4.69it/s, loss=31632.988, v_num=fold_1]\u001B[A\r\n",
      "Validating: 0it [00:00, ?it/s]\u001B[A\r\n",
      "Epoch 26:  83%|██▍| 62/75 [00:13<00:02,  4.71it/s, loss=31632.988, v_num=fold_1]\u001B[A\r\n",
      "Epoch 26:  85%|██▌| 64/75 [00:13<00:02,  4.80it/s, loss=31632.988, v_num=fold_1]\u001B[A\r\n",
      "Epoch 26:  88%|██▋| 66/75 [00:13<00:01,  4.90it/s, loss=31632.988, v_num=fold_1]\u001B[A\r\n",
      "Epoch 26:  91%|██▋| 68/75 [00:13<00:01,  4.99it/s, loss=31632.988, v_num=fold_1]\u001B[A\r\n",
      "Epoch 26:  93%|██▊| 70/75 [00:13<00:00,  5.08it/s, loss=31632.988, v_num=fold_1]\u001B[A\r\n",
      "Epoch 26:  96%|██▉| 72/75 [00:13<00:00,  5.17it/s, loss=31632.988, v_num=fold_1]\u001B[A\r\n",
      "Epoch 26:  99%|██▉| 74/75 [00:14<00:00,  5.25it/s, loss=31632.988, v_num=fold_1]\u001B[A\r\n",
      "Epoch 26: 100%|███| 75/75 [00:14<00:00,  5.28it/s, loss=31632.988, v_num=fold_1]\u001B[A\r\n",
      "Epoch 27:  80%|██▍| 60/75 [00:12<00:03,  4.72it/s, loss=35353.145, v_num=fold_1]\u001B[A\r\n",
      "Validating: 0it [00:00, ?it/s]\u001B[A\r\n",
      "Epoch 27:  83%|██▍| 62/75 [00:13<00:02,  4.74it/s, loss=35353.145, v_num=fold_1]\u001B[A\r\n",
      "Epoch 27:  85%|██▌| 64/75 [00:13<00:02,  4.84it/s, loss=35353.145, v_num=fold_1]\u001B[A\r\n",
      "Epoch 27:  88%|██▋| 66/75 [00:13<00:01,  4.93it/s, loss=35353.145, v_num=fold_1]\u001B[A\r\n",
      "Epoch 27:  91%|██▋| 68/75 [00:13<00:01,  5.02it/s, loss=35353.145, v_num=fold_1]\u001B[A\r\n",
      "Epoch 27:  93%|██▊| 70/75 [00:13<00:00,  5.12it/s, loss=35353.145, v_num=fold_1]\u001B[A\r\n",
      "Epoch 27:  96%|██▉| 72/75 [00:13<00:00,  5.21it/s, loss=35353.145, v_num=fold_1]\u001B[A\r\n",
      "Epoch 27:  99%|██▉| 74/75 [00:13<00:00,  5.30it/s, loss=35353.145, v_num=fold_1]\u001B[A\r\n",
      "Epoch 27: 100%|███| 75/75 [00:14<00:00,  5.32it/s, loss=35353.145, v_num=fold_1]\u001B[A\r\n",
      "Epoch 28:  80%|██▍| 60/75 [00:12<00:03,  4.75it/s, loss=35514.605, v_num=fold_1]\u001B[A\r\n",
      "Validating: 0it [00:00, ?it/s]\u001B[A\r\n",
      "Epoch 28:  83%|██▍| 62/75 [00:13<00:02,  4.77it/s, loss=35514.605, v_num=fold_1]\u001B[A\r\n",
      "Epoch 28:  85%|██▌| 64/75 [00:13<00:02,  4.87it/s, loss=35514.605, v_num=fold_1]\u001B[A\r\n",
      "Epoch 28:  88%|██▋| 66/75 [00:13<00:01,  4.96it/s, loss=35514.605, v_num=fold_1]\u001B[A\r\n",
      "Epoch 28:  91%|██▋| 68/75 [00:13<00:01,  5.06it/s, loss=35514.605, v_num=fold_1]\u001B[A\r\n",
      "Epoch 28:  93%|██▊| 70/75 [00:13<00:00,  5.15it/s, loss=35514.605, v_num=fold_1]\u001B[A\r\n",
      "Epoch 28:  96%|██▉| 72/75 [00:13<00:00,  5.24it/s, loss=35514.605, v_num=fold_1]\u001B[A\r\n",
      "Epoch 28:  99%|██▉| 74/75 [00:13<00:00,  5.33it/s, loss=35514.605, v_num=fold_1]\u001B[A\r\n",
      "Epoch 28: 100%|███| 75/75 [00:14<00:00,  5.35it/s, loss=35514.605, v_num=fold_1]\u001B[A\r\n",
      "Epoch 29:  80%|██▍| 60/75 [00:13<00:03,  4.50it/s, loss=30504.662, v_num=fold_1]\u001B[A\r\n",
      "Validating: 0it [00:00, ?it/s]\u001B[A\r\n",
      "Epoch 29:  83%|██▍| 62/75 [00:13<00:02,  4.52it/s, loss=30504.662, v_num=fold_1]\u001B[A\r\n",
      "Epoch 29:  85%|██▌| 64/75 [00:13<00:02,  4.61it/s, loss=30504.662, v_num=fold_1]\u001B[A\r\n",
      "Epoch 29:  88%|██▋| 66/75 [00:14<00:01,  4.70it/s, loss=30504.662, v_num=fold_1]\u001B[A\r\n",
      "Epoch 29:  91%|██▋| 68/75 [00:14<00:01,  4.78it/s, loss=30504.662, v_num=fold_1]\u001B[A\r\n",
      "Epoch 29:  93%|██▊| 70/75 [00:14<00:01,  4.88it/s, loss=30504.662, v_num=fold_1]\u001B[A\r\n",
      "Epoch 29:  96%|██▉| 72/75 [00:14<00:00,  4.96it/s, loss=30504.662, v_num=fold_1]\u001B[A\r\n",
      "Epoch 29:  99%|██▉| 74/75 [00:14<00:00,  5.04it/s, loss=30504.662, v_num=fold_1]\u001B[A\r\n",
      "Epoch 29: 100%|███| 75/75 [00:14<00:00,  5.07it/s, loss=30504.662, v_num=fold_1]\u001B[A\r\n",
      "Epoch 30:  80%|██▍| 60/75 [00:13<00:03,  4.44it/s, loss=30433.615, v_num=fold_1]\u001B[A\r\n",
      "Validating: 0it [00:00, ?it/s]\u001B[A\r\n",
      "Epoch 30:  83%|██▍| 62/75 [00:13<00:02,  4.46it/s, loss=30433.615, v_num=fold_1]\u001B[A\r\n",
      "Epoch 30:  85%|██▌| 64/75 [00:14<00:02,  4.56it/s, loss=30433.615, v_num=fold_1]\u001B[A\r\n",
      "Epoch 30:  88%|██▋| 66/75 [00:14<00:01,  4.65it/s, loss=30433.615, v_num=fold_1]\u001B[A\r\n",
      "Epoch 30:  91%|██▋| 68/75 [00:14<00:01,  4.75it/s, loss=30433.615, v_num=fold_1]\u001B[A\r\n",
      "Epoch 30:  93%|██▊| 70/75 [00:14<00:01,  4.84it/s, loss=30433.615, v_num=fold_1]\u001B[A\r\n",
      "Epoch 30:  96%|██▉| 72/75 [00:14<00:00,  4.92it/s, loss=30433.615, v_num=fold_1]\u001B[A\r\n",
      "Epoch 30:  99%|██▉| 74/75 [00:14<00:00,  5.01it/s, loss=30433.615, v_num=fold_1]\u001B[A\r\n",
      "Epoch 30: 100%|███| 75/75 [00:14<00:00,  5.04it/s, loss=30433.615, v_num=fold_1]\u001B[A\r\n",
      "Epoch 31:  80%|██▍| 60/75 [00:12<00:03,  4.75it/s, loss=29382.855, v_num=fold_1]\u001B[A\r\n",
      "Validating: 0it [00:00, ?it/s]\u001B[A\r\n",
      "Epoch 31:  83%|██▍| 62/75 [00:12<00:02,  4.77it/s, loss=29382.855, v_num=fold_1]\u001B[A\r\n",
      "Epoch 31:  85%|██▌| 64/75 [00:13<00:02,  4.87it/s, loss=29382.855, v_num=fold_1]\u001B[A\r\n",
      "Epoch 31:  88%|██▋| 66/75 [00:13<00:01,  4.97it/s, loss=29382.855, v_num=fold_1]\u001B[A\r\n",
      "Epoch 31:  91%|██▋| 68/75 [00:13<00:01,  5.06it/s, loss=29382.855, v_num=fold_1]\u001B[A\r\n",
      "Epoch 31:  93%|██▊| 70/75 [00:13<00:00,  5.16it/s, loss=29382.855, v_num=fold_1]\u001B[A\r\n",
      "Epoch 31:  96%|██▉| 72/75 [00:13<00:00,  5.25it/s, loss=29382.855, v_num=fold_1]\u001B[A\r\n",
      "Epoch 31:  99%|██▉| 74/75 [00:13<00:00,  5.34it/s, loss=29382.855, v_num=fold_1]\u001B[A\r\n",
      "Epoch 31: 100%|███| 75/75 [00:14<00:00,  5.27it/s, loss=29382.855, v_num=fold_1]\u001B[A\r\n",
      "Epoch 32:  80%|██▍| 60/75 [00:12<00:03,  4.83it/s, loss=31598.922, v_num=fold_1]\u001B[A\r\n",
      "Validating: 0it [00:00, ?it/s]\u001B[A\r\n",
      "Epoch 32:  83%|██▍| 62/75 [00:12<00:02,  4.85it/s, loss=31598.922, v_num=fold_1]\u001B[A\r\n",
      "Epoch 32:  85%|██▌| 64/75 [00:12<00:02,  4.95it/s, loss=31598.922, v_num=fold_1]\u001B[A\r\n",
      "Epoch 32:  88%|██▋| 66/75 [00:13<00:01,  5.04it/s, loss=31598.922, v_num=fold_1]\u001B[A\r\n",
      "Epoch 32:  91%|██▋| 68/75 [00:13<00:01,  5.14it/s, loss=31598.922, v_num=fold_1]\u001B[A\r\n",
      "Epoch 32:  93%|██▊| 70/75 [00:13<00:00,  5.23it/s, loss=31598.922, v_num=fold_1]\u001B[A\r\n",
      "Epoch 32:  96%|██▉| 72/75 [00:13<00:00,  5.32it/s, loss=31598.922, v_num=fold_1]\u001B[A\r\n",
      "Epoch 32:  99%|██▉| 74/75 [00:13<00:00,  5.41it/s, loss=31598.922, v_num=fold_1]\u001B[A\r\n",
      "Epoch 32: 100%|███| 75/75 [00:13<00:00,  5.44it/s, loss=31598.922, v_num=fold_1]\u001B[A\r\n",
      "Epoch 33:  80%|██▍| 60/75 [00:12<00:03,  4.68it/s, loss=29910.551, v_num=fold_1]\u001B[A\r\n",
      "Validating: 0it [00:00, ?it/s]\u001B[A\r\n",
      "Epoch 33:  83%|██▍| 62/75 [00:13<00:02,  4.70it/s, loss=29910.551, v_num=fold_1]\u001B[A\r\n",
      "Epoch 33:  85%|██▌| 64/75 [00:13<00:02,  4.80it/s, loss=29910.551, v_num=fold_1]\u001B[A\r\n",
      "Epoch 33:  88%|██▋| 66/75 [00:13<00:01,  4.89it/s, loss=29910.551, v_num=fold_1]\u001B[A\r\n",
      "Epoch 33:  91%|██▋| 68/75 [00:13<00:01,  4.99it/s, loss=29910.551, v_num=fold_1]\u001B[A\r\n",
      "Epoch 33:  93%|██▊| 70/75 [00:13<00:00,  5.08it/s, loss=29910.551, v_num=fold_1]\u001B[A\r\n",
      "Epoch 33:  96%|██▉| 72/75 [00:13<00:00,  5.17it/s, loss=29910.551, v_num=fold_1]\u001B[A\r\n",
      "Epoch 33:  99%|██▉| 74/75 [00:14<00:00,  5.26it/s, loss=29910.551, v_num=fold_1]\u001B[A\r\n",
      "Epoch 33: 100%|███| 75/75 [00:14<00:00,  5.29it/s, loss=29910.551, v_num=fold_1]\u001B[A\r\n",
      "Epoch 34:  80%|██▍| 60/75 [00:12<00:03,  4.85it/s, loss=31312.396, v_num=fold_1]\u001B[A\r\n",
      "Validating: 0it [00:00, ?it/s]\u001B[A\r\n",
      "Epoch 34:  83%|██▍| 62/75 [00:12<00:02,  4.87it/s, loss=31312.396, v_num=fold_1]\u001B[A\r\n",
      "Epoch 34:  85%|██▌| 64/75 [00:12<00:02,  4.97it/s, loss=31312.396, v_num=fold_1]\u001B[A\r\n",
      "Epoch 34:  88%|██▋| 66/75 [00:13<00:01,  5.07it/s, loss=31312.396, v_num=fold_1]\u001B[A\r\n",
      "Epoch 34:  91%|██▋| 68/75 [00:13<00:01,  5.16it/s, loss=31312.396, v_num=fold_1]\u001B[A\r\n",
      "Epoch 34:  93%|██▊| 70/75 [00:13<00:00,  5.26it/s, loss=31312.396, v_num=fold_1]\u001B[A\r\n",
      "Epoch 34:  96%|██▉| 72/75 [00:13<00:00,  5.35it/s, loss=31312.396, v_num=fold_1]\u001B[A\r\n",
      "Epoch 34:  99%|██▉| 74/75 [00:13<00:00,  5.44it/s, loss=31312.396, v_num=fold_1]\u001B[A\r\n",
      "Epoch 34: 100%|███| 75/75 [00:13<00:00,  5.47it/s, loss=31312.396, v_num=fold_1]\u001B[A\r\n",
      "Epoch 35:  80%|██▍| 60/75 [00:12<00:03,  4.93it/s, loss=29596.668, v_num=fold_1]\u001B[A\r\n",
      "Validating: 0it [00:00, ?it/s]\u001B[A\r\n",
      "Epoch 35:  83%|██▍| 62/75 [00:12<00:02,  4.95it/s, loss=29596.668, v_num=fold_1]\u001B[A\r\n",
      "Epoch 35:  85%|██▌| 64/75 [00:12<00:02,  5.05it/s, loss=29596.668, v_num=fold_1]\u001B[A\r\n",
      "Epoch 35:  88%|██▋| 66/75 [00:12<00:01,  5.15it/s, loss=29596.668, v_num=fold_1]\u001B[A\r\n",
      "Epoch 35:  91%|██▋| 68/75 [00:12<00:01,  5.24it/s, loss=29596.668, v_num=fold_1]\u001B[A\r\n",
      "Epoch 35:  93%|██▊| 70/75 [00:13<00:00,  5.34it/s, loss=29596.668, v_num=fold_1]\u001B[A\r\n",
      "Epoch 35:  96%|██▉| 72/75 [00:13<00:00,  5.43it/s, loss=29596.668, v_num=fold_1]\u001B[A\r\n",
      "Epoch 35:  99%|██▉| 74/75 [00:13<00:00,  5.52it/s, loss=29596.668, v_num=fold_1]\u001B[A\r\n",
      "Epoch 35: 100%|███| 75/75 [00:13<00:00,  5.55it/s, loss=29596.668, v_num=fold_1]\u001B[A\r\n",
      "Epoch 35: 100%|███| 75/75 [00:13<00:00,  5.54it/s, loss=29596.668, v_num=fold_1]\u001B[A\r\n",
      "Test preds for fold_1 ...\r\n",
      "Test preds for fold_1_v0 ...\r\n",
      "Test preds for fold_1_v1 ...\r\n",
      "Test preds for fold_1_v2 ...\r\n",
      "Test preds for fold_1_v3 ...\r\n",
      "Test preds for fold_1_v4 ...\r\n",
      "GPU available: True, used: True\r\n",
      "TPU available: False, using: 0 TPU cores\r\n",
      "CUDA_VISIBLE_DEVICES: [0]\r\n",
      "Using native 16bit precision.\r\n",
      "\r\n",
      "  | Name  | Type           | Params\r\n",
      "-----------------------------------------\r\n",
      "0 | model | ResNetFinetune | 23 M  \r\n",
      "Epoch 1:  20%|▏| 15/75 [00:03<00:13,  4.44it/s, loss=116384.141, v_num=fold_1_r]\r\n",
      "Validating: 0it [00:00, ?it/s]\u001B[A\r\n",
      "Epoch 1:  21%|▏| 16/75 [00:03<00:13,  4.33it/s, loss=116384.141, v_num=fold_1_r]\u001B[A\r\n",
      "Epoch 1:  24%|▏| 18/75 [00:03<00:12,  4.68it/s, loss=116384.141, v_num=fold_1_r]\u001B[A\r\n",
      "Epoch 1:  27%|▎| 20/75 [00:03<00:10,  5.01it/s, loss=116384.141, v_num=fold_1_r]\u001B[A\r\n",
      "Epoch 1:  29%|▎| 22/75 [00:04<00:09,  5.32it/s, loss=116384.141, v_num=fold_1_r]\u001B[A\r\n",
      "Epoch 1:  32%|▎| 24/75 [00:04<00:09,  5.60it/s, loss=116384.141, v_num=fold_1_r]\u001B[A\r\n",
      "Epoch 1:  35%|▎| 26/75 [00:04<00:08,  5.87it/s, loss=116384.141, v_num=fold_1_r]\u001B[A\r\n",
      "Epoch 1:  37%|▎| 28/75 [00:04<00:07,  6.11it/s, loss=116384.141, v_num=fold_1_r]\u001B[A\r\n",
      "Epoch 1:  40%|▍| 30/75 [00:04<00:07,  6.32it/s, loss=116384.141, v_num=fold_1_r]\u001B[A\r\n",
      "Epoch 1:  43%|▍| 32/75 [00:04<00:06,  6.51it/s, loss=116384.141, v_num=fold_1_r]\u001B[A\r\n",
      "Epoch 1:  45%|▍| 34/75 [00:05<00:06,  6.72it/s, loss=116384.141, v_num=fold_1_r]\u001B[A\r\n",
      "Epoch 1:  48%|▍| 36/75 [00:05<00:05,  6.91it/s, loss=116384.141, v_num=fold_1_r]\u001B[A\r\n",
      "Epoch 1:  51%|▌| 38/75 [00:05<00:05,  7.08it/s, loss=116384.141, v_num=fold_1_r]\u001B[A\r\n",
      "Epoch 1:  53%|▌| 40/75 [00:05<00:04,  7.23it/s, loss=116384.141, v_num=fold_1_r]\u001B[A\r\n",
      "Epoch 1:  56%|▌| 42/75 [00:05<00:04,  7.40it/s, loss=116384.141, v_num=fold_1_r]\u001B[A\r\n",
      "Epoch 1:  59%|▌| 44/75 [00:05<00:04,  7.55it/s, loss=116384.141, v_num=fold_1_r]\u001B[A\r\n",
      "Epoch 1:  61%|▌| 46/75 [00:05<00:03,  7.70it/s, loss=116384.141, v_num=fold_1_r]\u001B[A\r\n",
      "Epoch 1:  64%|▋| 48/75 [00:06<00:03,  7.85it/s, loss=116384.141, v_num=fold_1_r]\u001B[A\r\n",
      "Epoch 1:  67%|▋| 50/75 [00:06<00:03,  7.98it/s, loss=116384.141, v_num=fold_1_r]\u001B[A\r\n",
      "Epoch 1:  69%|▋| 52/75 [00:06<00:02,  8.11it/s, loss=116384.141, v_num=fold_1_r]\u001B[A\r\n",
      "Epoch 1:  72%|▋| 54/75 [00:06<00:02,  8.23it/s, loss=116384.141, v_num=fold_1_r]\u001B[A\r\n",
      "Epoch 1:  75%|▋| 56/75 [00:06<00:02,  8.36it/s, loss=116384.141, v_num=fold_1_r]\u001B[A\r\n",
      "Epoch 1:  77%|▊| 58/75 [00:06<00:02,  8.47it/s, loss=116384.141, v_num=fold_1_r]\u001B[A\r\n",
      "Epoch 1:  80%|▊| 60/75 [00:06<00:01,  8.58it/s, loss=116384.141, v_num=fold_1_r]\u001B[A\r\n",
      "Epoch 1:  83%|▊| 62/75 [00:07<00:01,  8.69it/s, loss=116384.141, v_num=fold_1_r]\u001B[A\r\n",
      "Epoch 1:  85%|▊| 64/75 [00:07<00:01,  8.79it/s, loss=116384.141, v_num=fold_1_r]\u001B[A\r\n",
      "Epoch 1:  88%|▉| 66/75 [00:07<00:01,  8.89it/s, loss=116384.141, v_num=fold_1_r]\u001B[A\r\n",
      "Epoch 1:  91%|▉| 68/75 [00:07<00:00,  8.99it/s, loss=116384.141, v_num=fold_1_r]\u001B[A\r\n",
      "Epoch 1:  93%|▉| 70/75 [00:07<00:00,  9.08it/s, loss=116384.141, v_num=fold_1_r]\u001B[A\r\n",
      "Epoch 1:  96%|▉| 72/75 [00:07<00:00,  9.17it/s, loss=116384.141, v_num=fold_1_r]\u001B[A\r\n",
      "Epoch 1: 100%|█| 75/75 [00:08<00:00,  8.73it/s, loss=116384.141, v_num=fold_1_r]\u001B[A\r\n",
      "Epoch 2:  20%|▍ | 15/75 [00:03<00:13,  4.47it/s, loss=94175.336, v_num=fold_1_r]\u001B[A\r\n",
      "Validating: 0it [00:00, ?it/s]\u001B[A\r\n",
      "Epoch 2:  21%|▍ | 16/75 [00:03<00:13,  4.38it/s, loss=94175.336, v_num=fold_1_r]\u001B[A\r\n",
      "Epoch 2:  24%|▍ | 18/75 [00:03<00:12,  4.72it/s, loss=94175.336, v_num=fold_1_r]\u001B[A\r\n",
      "Epoch 2:  27%|▌ | 20/75 [00:03<00:10,  5.06it/s, loss=94175.336, v_num=fold_1_r]\u001B[A\r\n",
      "Epoch 2:  29%|▌ | 22/75 [00:04<00:09,  5.36it/s, loss=94175.336, v_num=fold_1_r]\u001B[A\r\n",
      "Epoch 2:  32%|▋ | 24/75 [00:04<00:09,  5.65it/s, loss=94175.336, v_num=fold_1_r]\u001B[A\r\n",
      "Epoch 2:  35%|▋ | 26/75 [00:04<00:08,  5.92it/s, loss=94175.336, v_num=fold_1_r]\u001B[A\r\n",
      "Epoch 2:  37%|▋ | 28/75 [00:04<00:07,  6.17it/s, loss=94175.336, v_num=fold_1_r]\u001B[A\r\n",
      "Epoch 2:  40%|▊ | 30/75 [00:04<00:07,  6.41it/s, loss=94175.336, v_num=fold_1_r]\u001B[A\r\n",
      "Epoch 2:  43%|▊ | 32/75 [00:04<00:06,  6.63it/s, loss=94175.336, v_num=fold_1_r]\u001B[A\r\n",
      "Epoch 2:  45%|▉ | 34/75 [00:04<00:05,  6.84it/s, loss=94175.336, v_num=fold_1_r]\u001B[A\r\n",
      "Epoch 2:  48%|▉ | 36/75 [00:05<00:05,  7.04it/s, loss=94175.336, v_num=fold_1_r]\u001B[A\r\n",
      "Epoch 2:  51%|█ | 38/75 [00:05<00:05,  7.22it/s, loss=94175.336, v_num=fold_1_r]\u001B[A\r\n",
      "Epoch 2:  53%|█ | 40/75 [00:05<00:04,  7.40it/s, loss=94175.336, v_num=fold_1_r]\u001B[A\r\n",
      "Epoch 2:  56%|█ | 42/75 [00:05<00:04,  7.56it/s, loss=94175.336, v_num=fold_1_r]\u001B[A\r\n",
      "Epoch 2:  59%|█▏| 44/75 [00:05<00:04,  7.72it/s, loss=94175.336, v_num=fold_1_r]\u001B[A\r\n",
      "Epoch 2:  61%|█▏| 46/75 [00:05<00:03,  7.84it/s, loss=94175.336, v_num=fold_1_r]\u001B[A\r\n",
      "Epoch 2:  64%|█▎| 48/75 [00:06<00:03,  7.99it/s, loss=94175.336, v_num=fold_1_r]\u001B[A\r\n",
      "Epoch 2:  67%|█▎| 50/75 [00:06<00:03,  8.11it/s, loss=94175.336, v_num=fold_1_r]\u001B[A\r\n",
      "Epoch 2:  69%|█▍| 52/75 [00:06<00:02,  8.24it/s, loss=94175.336, v_num=fold_1_r]\u001B[A\r\n",
      "Epoch 2:  72%|█▍| 54/75 [00:06<00:02,  8.33it/s, loss=94175.336, v_num=fold_1_r]\u001B[A\r\n",
      "Epoch 2:  75%|█▍| 56/75 [00:06<00:02,  8.42it/s, loss=94175.336, v_num=fold_1_r]\u001B[A\r\n",
      "Epoch 2:  77%|█▌| 58/75 [00:06<00:01,  8.53it/s, loss=94175.336, v_num=fold_1_r]\u001B[A\r\n",
      "Epoch 2:  80%|█▌| 60/75 [00:06<00:01,  8.61it/s, loss=94175.336, v_num=fold_1_r]\u001B[A\r\n",
      "Epoch 2:  83%|█▋| 62/75 [00:07<00:01,  8.69it/s, loss=94175.336, v_num=fold_1_r]\u001B[A\r\n",
      "Epoch 2:  85%|█▋| 64/75 [00:07<00:01,  8.79it/s, loss=94175.336, v_num=fold_1_r]\u001B[A\r\n",
      "Epoch 2:  88%|█▊| 66/75 [00:07<00:01,  8.89it/s, loss=94175.336, v_num=fold_1_r]\u001B[A\r\n",
      "Epoch 2:  91%|█▊| 68/75 [00:07<00:00,  8.98it/s, loss=94175.336, v_num=fold_1_r]\u001B[A\r\n",
      "Epoch 2:  93%|█▊| 70/75 [00:07<00:00,  9.07it/s, loss=94175.336, v_num=fold_1_r]\u001B[A\r\n",
      "Epoch 2:  96%|█▉| 72/75 [00:07<00:00,  9.16it/s, loss=94175.336, v_num=fold_1_r]\u001B[A\r\n",
      "Epoch 2: 100%|██| 75/75 [00:08<00:00,  8.58it/s, loss=94175.336, v_num=fold_1_r]\u001B[A\r\n",
      "Epoch 3:  20%|▏| 15/75 [00:03<00:13,  4.45it/s, loss=101456.891, v_num=fold_1_r]\u001B[A\r\n",
      "Validating: 0it [00:00, ?it/s]\u001B[A\r\n",
      "Epoch 3:  21%|▏| 16/75 [00:03<00:13,  4.36it/s, loss=101456.891, v_num=fold_1_r]\u001B[A\r\n",
      "Epoch 3:  24%|▏| 18/75 [00:03<00:12,  4.70it/s, loss=101456.891, v_num=fold_1_r]\u001B[A\r\n",
      "Epoch 3:  27%|▎| 20/75 [00:03<00:10,  5.03it/s, loss=101456.891, v_num=fold_1_r]\u001B[A\r\n",
      "Epoch 3:  29%|▎| 22/75 [00:04<00:09,  5.33it/s, loss=101456.891, v_num=fold_1_r]\u001B[A\r\n",
      "Epoch 3:  32%|▎| 24/75 [00:04<00:09,  5.61it/s, loss=101456.891, v_num=fold_1_r]\u001B[A\r\n",
      "Epoch 3:  35%|▎| 26/75 [00:04<00:08,  5.88it/s, loss=101456.891, v_num=fold_1_r]\u001B[A\r\n",
      "Epoch 3:  37%|▎| 28/75 [00:04<00:07,  6.13it/s, loss=101456.891, v_num=fold_1_r]\u001B[A\r\n",
      "Epoch 3:  40%|▍| 30/75 [00:04<00:07,  6.37it/s, loss=101456.891, v_num=fold_1_r]\u001B[A\r\n",
      "Epoch 3:  43%|▍| 32/75 [00:04<00:06,  6.59it/s, loss=101456.891, v_num=fold_1_r]\u001B[A\r\n",
      "Epoch 3:  45%|▍| 34/75 [00:04<00:06,  6.80it/s, loss=101456.891, v_num=fold_1_r]\u001B[A\r\n",
      "Epoch 3:  48%|▍| 36/75 [00:05<00:05,  7.00it/s, loss=101456.891, v_num=fold_1_r]\u001B[A\r\n",
      "Epoch 3:  51%|▌| 38/75 [00:05<00:05,  7.18it/s, loss=101456.891, v_num=fold_1_r]\u001B[A\r\n",
      "Epoch 3:  53%|▌| 40/75 [00:05<00:04,  7.35it/s, loss=101456.891, v_num=fold_1_r]\u001B[A\r\n",
      "Epoch 3:  56%|▌| 42/75 [00:05<00:04,  7.52it/s, loss=101456.891, v_num=fold_1_r]\u001B[A\r\n",
      "Epoch 3:  59%|▌| 44/75 [00:05<00:04,  7.68it/s, loss=101456.891, v_num=fold_1_r]\u001B[A\r\n",
      "Epoch 3:  61%|▌| 46/75 [00:05<00:03,  7.83it/s, loss=101456.891, v_num=fold_1_r]\u001B[A\r\n",
      "Epoch 3:  64%|▋| 48/75 [00:06<00:03,  7.98it/s, loss=101456.891, v_num=fold_1_r]\u001B[A\r\n",
      "Epoch 3:  67%|▋| 50/75 [00:06<00:03,  8.10it/s, loss=101456.891, v_num=fold_1_r]\u001B[A\r\n",
      "Epoch 3:  69%|▋| 52/75 [00:06<00:02,  8.23it/s, loss=101456.891, v_num=fold_1_r]\u001B[A\r\n",
      "Epoch 3:  72%|▋| 54/75 [00:06<00:02,  8.36it/s, loss=101456.891, v_num=fold_1_r]\u001B[A\r\n",
      "Epoch 3:  75%|▋| 56/75 [00:06<00:02,  8.48it/s, loss=101456.891, v_num=fold_1_r]\u001B[A\r\n",
      "Epoch 3:  77%|▊| 58/75 [00:06<00:01,  8.59it/s, loss=101456.891, v_num=fold_1_r]\u001B[A\r\n",
      "Epoch 3:  80%|▊| 60/75 [00:06<00:01,  8.69it/s, loss=101456.891, v_num=fold_1_r]\u001B[A\r\n",
      "Epoch 3:  83%|▊| 62/75 [00:07<00:01,  8.80it/s, loss=101456.891, v_num=fold_1_r]\u001B[A\r\n",
      "Epoch 3:  85%|▊| 64/75 [00:07<00:01,  8.90it/s, loss=101456.891, v_num=fold_1_r]\u001B[A\r\n",
      "Epoch 3:  88%|▉| 66/75 [00:07<00:01,  8.99it/s, loss=101456.891, v_num=fold_1_r]\u001B[A\r\n",
      "Epoch 3:  91%|▉| 68/75 [00:07<00:00,  9.09it/s, loss=101456.891, v_num=fold_1_r]\u001B[A\r\n",
      "Epoch 3:  93%|▉| 70/75 [00:07<00:00,  9.18it/s, loss=101456.891, v_num=fold_1_r]\u001B[A\r\n",
      "Epoch 3:  96%|▉| 72/75 [00:07<00:00,  9.27it/s, loss=101456.891, v_num=fold_1_r]\u001B[A\r\n",
      "Epoch 3: 100%|█| 75/75 [00:08<00:00,  8.71it/s, loss=101456.891, v_num=fold_1_r]\u001B[A\r\n",
      "Epoch 4:  20%|▍ | 15/75 [00:03<00:13,  4.51it/s, loss=96299.227, v_num=fold_1_r]\u001B[A\r\n",
      "Validating: 0it [00:00, ?it/s]\u001B[A\r\n",
      "Epoch 4:  21%|▍ | 16/75 [00:03<00:13,  4.41it/s, loss=96299.227, v_num=fold_1_r]\u001B[A\r\n",
      "Epoch 4:  24%|▍ | 18/75 [00:03<00:11,  4.76it/s, loss=96299.227, v_num=fold_1_r]\u001B[A\r\n",
      "Epoch 4:  27%|▌ | 20/75 [00:03<00:10,  5.09it/s, loss=96299.227, v_num=fold_1_r]\u001B[A\r\n",
      "Epoch 4:  29%|▌ | 22/75 [00:04<00:09,  5.40it/s, loss=96299.227, v_num=fold_1_r]\u001B[A\r\n",
      "Epoch 4:  32%|▋ | 24/75 [00:04<00:08,  5.69it/s, loss=96299.227, v_num=fold_1_r]\u001B[A\r\n",
      "Epoch 4:  35%|▋ | 26/75 [00:04<00:08,  5.96it/s, loss=96299.227, v_num=fold_1_r]\u001B[A\r\n",
      "Epoch 4:  37%|▋ | 28/75 [00:04<00:07,  6.22it/s, loss=96299.227, v_num=fold_1_r]\u001B[A\r\n",
      "Epoch 4:  40%|▊ | 30/75 [00:04<00:06,  6.45it/s, loss=96299.227, v_num=fold_1_r]\u001B[A\r\n",
      "Epoch 4:  43%|▊ | 32/75 [00:04<00:06,  6.67it/s, loss=96299.227, v_num=fold_1_r]\u001B[A\r\n",
      "Epoch 4:  45%|▉ | 34/75 [00:04<00:05,  6.88it/s, loss=96299.227, v_num=fold_1_r]\u001B[A\r\n",
      "Epoch 4:  48%|▉ | 36/75 [00:05<00:05,  7.08it/s, loss=96299.227, v_num=fold_1_r]\u001B[A\r\n",
      "Epoch 4:  51%|█ | 38/75 [00:05<00:05,  7.27it/s, loss=96299.227, v_num=fold_1_r]\u001B[A\r\n",
      "Epoch 4:  53%|█ | 40/75 [00:05<00:04,  7.44it/s, loss=96299.227, v_num=fold_1_r]\u001B[A\r\n",
      "Epoch 4:  56%|█ | 42/75 [00:05<00:04,  7.61it/s, loss=96299.227, v_num=fold_1_r]\u001B[A\r\n",
      "Epoch 4:  59%|█▏| 44/75 [00:05<00:03,  7.76it/s, loss=96299.227, v_num=fold_1_r]\u001B[A\r\n",
      "Epoch 4:  61%|█▏| 46/75 [00:05<00:03,  7.92it/s, loss=96299.227, v_num=fold_1_r]\u001B[A\r\n",
      "Epoch 4:  64%|█▎| 48/75 [00:05<00:03,  8.06it/s, loss=96299.227, v_num=fold_1_r]\u001B[A\r\n",
      "Epoch 4:  67%|█▎| 50/75 [00:06<00:03,  8.20it/s, loss=96299.227, v_num=fold_1_r]\u001B[A\r\n",
      "Epoch 4:  69%|█▍| 52/75 [00:06<00:02,  8.33it/s, loss=96299.227, v_num=fold_1_r]\u001B[A\r\n",
      "Epoch 4:  72%|█▍| 54/75 [00:06<00:02,  8.46it/s, loss=96299.227, v_num=fold_1_r]\u001B[A\r\n",
      "Epoch 4:  75%|█▍| 56/75 [00:06<00:02,  8.58it/s, loss=96299.227, v_num=fold_1_r]\u001B[A\r\n",
      "Epoch 4:  77%|█▌| 58/75 [00:06<00:01,  8.69it/s, loss=96299.227, v_num=fold_1_r]\u001B[A\r\n",
      "Epoch 4:  80%|█▌| 60/75 [00:06<00:01,  8.80it/s, loss=96299.227, v_num=fold_1_r]\u001B[A\r\n",
      "Epoch 4:  83%|█▋| 62/75 [00:06<00:01,  8.91it/s, loss=96299.227, v_num=fold_1_r]\u001B[A\r\n",
      "Epoch 4:  85%|█▋| 64/75 [00:07<00:01,  9.01it/s, loss=96299.227, v_num=fold_1_r]\u001B[A\r\n",
      "Epoch 4:  88%|█▊| 66/75 [00:07<00:00,  9.11it/s, loss=96299.227, v_num=fold_1_r]\u001B[A\r\n",
      "Epoch 4:  91%|█▊| 68/75 [00:07<00:00,  9.20it/s, loss=96299.227, v_num=fold_1_r]\u001B[A\r\n",
      "Epoch 4:  93%|█▊| 70/75 [00:07<00:00,  9.30it/s, loss=96299.227, v_num=fold_1_r]\u001B[A\r\n",
      "Epoch 4:  96%|█▉| 72/75 [00:07<00:00,  9.39it/s, loss=96299.227, v_num=fold_1_r]\u001B[A\r\n",
      "Epoch 4: 100%|██| 75/75 [00:08<00:00,  8.78it/s, loss=96299.227, v_num=fold_1_r]\u001B[A\r\n",
      "Epoch 5:  20%|▍ | 15/75 [00:03<00:13,  4.55it/s, loss=73112.102, v_num=fold_1_r]\u001B[A\r\n",
      "Validating: 0it [00:00, ?it/s]\u001B[A\r\n",
      "Epoch 5:  21%|▍ | 16/75 [00:03<00:13,  4.46it/s, loss=73112.102, v_num=fold_1_r]\u001B[A\r\n",
      "Epoch 5:  24%|▍ | 18/75 [00:03<00:11,  4.82it/s, loss=73112.102, v_num=fold_1_r]\u001B[A\r\n",
      "Epoch 5:  27%|▌ | 20/75 [00:03<00:10,  5.15it/s, loss=73112.102, v_num=fold_1_r]\u001B[A\r\n",
      "Epoch 5:  29%|▌ | 22/75 [00:04<00:09,  5.47it/s, loss=73112.102, v_num=fold_1_r]\u001B[A\r\n",
      "Epoch 5:  32%|▋ | 24/75 [00:04<00:08,  5.76it/s, loss=73112.102, v_num=fold_1_r]\u001B[A\r\n",
      "Epoch 5:  35%|▋ | 26/75 [00:04<00:08,  6.03it/s, loss=73112.102, v_num=fold_1_r]\u001B[A\r\n",
      "Epoch 5:  37%|▋ | 28/75 [00:04<00:07,  6.28it/s, loss=73112.102, v_num=fold_1_r]\u001B[A\r\n",
      "Epoch 5:  40%|▊ | 30/75 [00:04<00:06,  6.52it/s, loss=73112.102, v_num=fold_1_r]\u001B[A\r\n",
      "Epoch 5:  43%|▊ | 32/75 [00:04<00:06,  6.74it/s, loss=73112.102, v_num=fold_1_r]\u001B[A\r\n",
      "Epoch 5:  45%|▉ | 34/75 [00:04<00:05,  6.95it/s, loss=73112.102, v_num=fold_1_r]\u001B[A\r\n",
      "Epoch 5:  48%|▉ | 36/75 [00:05<00:05,  7.15it/s, loss=73112.102, v_num=fold_1_r]\u001B[A\r\n",
      "Epoch 5:  51%|█ | 38/75 [00:05<00:05,  7.34it/s, loss=73112.102, v_num=fold_1_r]\u001B[A\r\n",
      "Epoch 5:  53%|█ | 40/75 [00:05<00:04,  7.51it/s, loss=73112.102, v_num=fold_1_r]\u001B[A\r\n",
      "Epoch 5:  56%|█ | 42/75 [00:05<00:04,  7.68it/s, loss=73112.102, v_num=fold_1_r]\u001B[A\r\n",
      "Epoch 5:  59%|█▏| 44/75 [00:05<00:03,  7.84it/s, loss=73112.102, v_num=fold_1_r]\u001B[A\r\n",
      "Epoch 5:  61%|█▏| 46/75 [00:05<00:03,  7.99it/s, loss=73112.102, v_num=fold_1_r]\u001B[A\r\n",
      "Epoch 5:  64%|█▎| 48/75 [00:05<00:03,  8.14it/s, loss=73112.102, v_num=fold_1_r]\u001B[A\r\n",
      "Epoch 5:  67%|█▎| 50/75 [00:06<00:03,  8.27it/s, loss=73112.102, v_num=fold_1_r]\u001B[A\r\n",
      "Epoch 5:  69%|█▍| 52/75 [00:06<00:02,  8.40it/s, loss=73112.102, v_num=fold_1_r]\u001B[A\r\n",
      "Epoch 5:  72%|█▍| 54/75 [00:06<00:02,  8.52it/s, loss=73112.102, v_num=fold_1_r]\u001B[A\r\n",
      "Epoch 5:  75%|█▍| 56/75 [00:06<00:02,  8.64it/s, loss=73112.102, v_num=fold_1_r]\u001B[A\r\n",
      "Epoch 5:  77%|█▌| 58/75 [00:06<00:01,  8.76it/s, loss=73112.102, v_num=fold_1_r]\u001B[A\r\n",
      "Epoch 5:  80%|█▌| 60/75 [00:06<00:01,  8.86it/s, loss=73112.102, v_num=fold_1_r]\u001B[A\r\n",
      "Epoch 5:  83%|█▋| 62/75 [00:06<00:01,  8.97it/s, loss=73112.102, v_num=fold_1_r]\u001B[A\r\n",
      "Epoch 5:  85%|█▋| 64/75 [00:07<00:01,  9.07it/s, loss=73112.102, v_num=fold_1_r]\u001B[A\r\n",
      "Epoch 5:  88%|█▊| 66/75 [00:07<00:00,  9.17it/s, loss=73112.102, v_num=fold_1_r]\u001B[A\r\n",
      "Epoch 5:  91%|█▊| 68/75 [00:07<00:00,  9.26it/s, loss=73112.102, v_num=fold_1_r]\u001B[A\r\n",
      "Epoch 5:  93%|█▊| 70/75 [00:07<00:00,  9.35it/s, loss=73112.102, v_num=fold_1_r]\u001B[A\r\n",
      "Epoch 5:  96%|█▉| 72/75 [00:07<00:00,  9.44it/s, loss=73112.102, v_num=fold_1_r]\u001B[A\r\n",
      "Epoch 5: 100%|██| 75/75 [00:08<00:00,  8.82it/s, loss=73112.102, v_num=fold_1_r]\u001B[A\r\n",
      "Epoch 6:  20%|▍ | 15/75 [00:03<00:13,  4.48it/s, loss=55090.188, v_num=fold_1_r]\u001B[A\r\n",
      "Validating: 0it [00:00, ?it/s]\u001B[A\r\n",
      "Epoch 6:  21%|▍ | 16/75 [00:03<00:13,  4.40it/s, loss=55090.188, v_num=fold_1_r]\u001B[A\r\n",
      "Epoch 6:  24%|▍ | 18/75 [00:03<00:11,  4.75it/s, loss=55090.188, v_num=fold_1_r]\u001B[A\r\n",
      "Epoch 6:  27%|▌ | 20/75 [00:03<00:10,  5.09it/s, loss=55090.188, v_num=fold_1_r]\u001B[A\r\n",
      "Epoch 6:  29%|▌ | 22/75 [00:04<00:09,  5.40it/s, loss=55090.188, v_num=fold_1_r]\u001B[A\r\n",
      "Epoch 6:  32%|▋ | 24/75 [00:04<00:08,  5.68it/s, loss=55090.188, v_num=fold_1_r]\u001B[A\r\n",
      "Epoch 6:  35%|▋ | 26/75 [00:04<00:08,  5.95it/s, loss=55090.188, v_num=fold_1_r]\u001B[A\r\n",
      "Epoch 6:  37%|▋ | 28/75 [00:04<00:07,  6.20it/s, loss=55090.188, v_num=fold_1_r]\u001B[A\r\n",
      "Epoch 6:  40%|▊ | 30/75 [00:04<00:06,  6.44it/s, loss=55090.188, v_num=fold_1_r]\u001B[A\r\n",
      "Epoch 6:  43%|▊ | 32/75 [00:04<00:06,  6.66it/s, loss=55090.188, v_num=fold_1_r]\u001B[A\r\n",
      "Epoch 6:  45%|▉ | 34/75 [00:04<00:05,  6.87it/s, loss=55090.188, v_num=fold_1_r]\u001B[A\r\n",
      "Epoch 6:  48%|▉ | 36/75 [00:05<00:05,  7.06it/s, loss=55090.188, v_num=fold_1_r]\u001B[A\r\n",
      "Epoch 6:  51%|█ | 38/75 [00:05<00:05,  7.25it/s, loss=55090.188, v_num=fold_1_r]\u001B[A\r\n",
      "Epoch 6:  53%|█ | 40/75 [00:05<00:04,  7.42it/s, loss=55090.188, v_num=fold_1_r]\u001B[A\r\n",
      "Epoch 6:  56%|█ | 42/75 [00:05<00:04,  7.57it/s, loss=55090.188, v_num=fold_1_r]\u001B[A\r\n",
      "Epoch 6:  59%|█▏| 44/75 [00:05<00:04,  7.71it/s, loss=55090.188, v_num=fold_1_r]\u001B[A\r\n",
      "Epoch 6:  61%|█▏| 46/75 [00:05<00:03,  7.85it/s, loss=55090.188, v_num=fold_1_r]\u001B[A\r\n",
      "Epoch 6:  64%|█▎| 48/75 [00:06<00:03,  7.98it/s, loss=55090.188, v_num=fold_1_r]\u001B[A\r\n",
      "Epoch 6:  67%|█▎| 50/75 [00:06<00:03,  8.10it/s, loss=55090.188, v_num=fold_1_r]\u001B[A\r\n",
      "Epoch 6:  69%|█▍| 52/75 [00:06<00:02,  8.21it/s, loss=55090.188, v_num=fold_1_r]\u001B[A\r\n",
      "Epoch 6:  72%|█▍| 54/75 [00:06<00:02,  8.32it/s, loss=55090.188, v_num=fold_1_r]\u001B[A\r\n",
      "Epoch 6:  75%|█▍| 56/75 [00:06<00:02,  8.43it/s, loss=55090.188, v_num=fold_1_r]\u001B[A\r\n",
      "Epoch 6:  77%|█▌| 58/75 [00:06<00:01,  8.52it/s, loss=55090.188, v_num=fold_1_r]\u001B[A\r\n",
      "Epoch 6:  80%|█▌| 60/75 [00:06<00:01,  8.62it/s, loss=55090.188, v_num=fold_1_r]\u001B[A\r\n",
      "Epoch 6:  83%|█▋| 62/75 [00:07<00:01,  8.71it/s, loss=55090.188, v_num=fold_1_r]\u001B[A\r\n",
      "Epoch 6:  85%|█▋| 64/75 [00:07<00:01,  8.81it/s, loss=55090.188, v_num=fold_1_r]\u001B[A\r\n",
      "Epoch 6:  88%|█▊| 66/75 [00:07<00:01,  8.89it/s, loss=55090.188, v_num=fold_1_r]\u001B[A\r\n",
      "Epoch 6:  91%|█▊| 68/75 [00:07<00:00,  8.98it/s, loss=55090.188, v_num=fold_1_r]\u001B[A\r\n",
      "Epoch 6:  93%|█▊| 70/75 [00:07<00:00,  9.07it/s, loss=55090.188, v_num=fold_1_r]\u001B[A\r\n",
      "Epoch 6:  96%|█▉| 72/75 [00:07<00:00,  9.14it/s, loss=55090.188, v_num=fold_1_r]\u001B[A\r\n",
      "Epoch 6: 100%|██| 75/75 [00:08<00:00,  8.54it/s, loss=55090.188, v_num=fold_1_r]\u001B[A\r\n",
      "Epoch 7:  20%|▍ | 15/75 [00:03<00:13,  4.54it/s, loss=51384.988, v_num=fold_1_r]\u001B[A\r\n",
      "Validating: 0it [00:00, ?it/s]\u001B[A\r\n",
      "Epoch 7:  21%|▍ | 16/75 [00:03<00:13,  4.44it/s, loss=51384.988, v_num=fold_1_r]\u001B[A\r\n",
      "Epoch 7:  24%|▍ | 18/75 [00:03<00:11,  4.79it/s, loss=51384.988, v_num=fold_1_r]\u001B[A\r\n",
      "Epoch 7:  27%|▌ | 20/75 [00:03<00:10,  5.12it/s, loss=51384.988, v_num=fold_1_r]\u001B[A\r\n",
      "Epoch 7:  29%|▌ | 22/75 [00:04<00:09,  5.42it/s, loss=51384.988, v_num=fold_1_r]\u001B[A\r\n",
      "Epoch 7:  32%|▋ | 24/75 [00:04<00:08,  5.71it/s, loss=51384.988, v_num=fold_1_r]\u001B[A\r\n",
      "Epoch 7:  35%|▋ | 26/75 [00:04<00:08,  5.98it/s, loss=51384.988, v_num=fold_1_r]\u001B[A\r\n",
      "Epoch 7:  37%|▋ | 28/75 [00:04<00:07,  6.23it/s, loss=51384.988, v_num=fold_1_r]\u001B[A\r\n",
      "Epoch 7:  40%|▊ | 30/75 [00:04<00:06,  6.46it/s, loss=51384.988, v_num=fold_1_r]\u001B[A\r\n",
      "Epoch 7:  43%|▊ | 32/75 [00:04<00:06,  6.69it/s, loss=51384.988, v_num=fold_1_r]\u001B[A\r\n",
      "Epoch 7:  45%|▉ | 34/75 [00:04<00:05,  6.89it/s, loss=51384.988, v_num=fold_1_r]\u001B[A\r\n",
      "Epoch 7:  48%|▉ | 36/75 [00:05<00:05,  7.09it/s, loss=51384.988, v_num=fold_1_r]\u001B[A\r\n",
      "Epoch 7:  51%|█ | 38/75 [00:05<00:05,  7.27it/s, loss=51384.988, v_num=fold_1_r]\u001B[A\r\n",
      "Epoch 7:  53%|█ | 40/75 [00:05<00:04,  7.45it/s, loss=51384.988, v_num=fold_1_r]\u001B[A\r\n",
      "Epoch 7:  56%|█ | 42/75 [00:05<00:04,  7.61it/s, loss=51384.988, v_num=fold_1_r]\u001B[A\r\n",
      "Epoch 7:  59%|█▏| 44/75 [00:05<00:03,  7.77it/s, loss=51384.988, v_num=fold_1_r]\u001B[A\r\n",
      "Epoch 7:  61%|█▏| 46/75 [00:05<00:03,  7.92it/s, loss=51384.988, v_num=fold_1_r]\u001B[A\r\n",
      "Epoch 7:  64%|█▎| 48/75 [00:05<00:03,  8.06it/s, loss=51384.988, v_num=fold_1_r]\u001B[A\r\n",
      "Epoch 7:  67%|█▎| 50/75 [00:06<00:03,  8.20it/s, loss=51384.988, v_num=fold_1_r]\u001B[A\r\n",
      "Epoch 7:  69%|█▍| 52/75 [00:06<00:02,  8.33it/s, loss=51384.988, v_num=fold_1_r]\u001B[A\r\n",
      "Epoch 7:  72%|█▍| 54/75 [00:06<00:02,  8.45it/s, loss=51384.988, v_num=fold_1_r]\u001B[A\r\n",
      "Epoch 7:  75%|█▍| 56/75 [00:06<00:02,  8.57it/s, loss=51384.988, v_num=fold_1_r]\u001B[A\r\n",
      "Epoch 7:  77%|█▌| 58/75 [00:06<00:01,  8.68it/s, loss=51384.988, v_num=fold_1_r]\u001B[A\r\n",
      "Epoch 7:  80%|█▌| 60/75 [00:06<00:01,  8.79it/s, loss=51384.988, v_num=fold_1_r]\u001B[A\r\n",
      "Epoch 7:  83%|█▋| 62/75 [00:06<00:01,  8.89it/s, loss=51384.988, v_num=fold_1_r]\u001B[A\r\n",
      "Epoch 7:  85%|█▋| 64/75 [00:07<00:01,  8.99it/s, loss=51384.988, v_num=fold_1_r]\u001B[A\r\n",
      "Epoch 7:  88%|█▊| 66/75 [00:07<00:00,  9.08it/s, loss=51384.988, v_num=fold_1_r]\u001B[A\r\n",
      "Epoch 7:  91%|█▊| 68/75 [00:07<00:00,  9.18it/s, loss=51384.988, v_num=fold_1_r]\u001B[A\r\n",
      "Epoch 7:  93%|█▊| 70/75 [00:07<00:00,  9.27it/s, loss=51384.988, v_num=fold_1_r]\u001B[A\r\n",
      "Epoch 7:  96%|█▉| 72/75 [00:07<00:00,  9.36it/s, loss=51384.988, v_num=fold_1_r]\u001B[A\r\n",
      "Epoch 7: 100%|██| 75/75 [00:08<00:00,  8.78it/s, loss=51384.988, v_num=fold_1_r]\u001B[A\r\n",
      "Epoch 7: 100%|██| 75/75 [00:08<00:00,  8.77it/s, loss=51384.988, v_num=fold_1_r]\u001B[A\r\n",
      "Test preds for fold_1_r ...\r\n",
      "Test preds for fold_1_v0 ...\r\n",
      "Test preds for fold_1_v1 ...\r\n",
      "Test preds for fold_1_v2 ...\r\n",
      "Test preds for fold_1_v3 ...\r\n",
      "Test preds for fold_1_v4 ...\r\n"
     ]
    }
   ],
   "source": [
    "!python -W ignore runner.py"
   ],
   "metadata": {
    "collapsed": false,
    "pycharm": {
     "name": "#%%\n"
    }
   }
  },
  {
   "cell_type": "code",
   "execution_count": null,
   "outputs": [],
   "source": [
    "# test model accuracy from checkpoints\n",
    "from v2.utils import accuracy\n",
    "from v2.runner import Model\n",
    "# testing dataloaders\n",
    "from v2.config import DefaultConfig\n",
    "from v2.dataloader import stratified_loaders\n",
    "conf = DefaultConfig()\n",
    "model = Model.load_from_checkpoint('tb_logs/resnext101_32x4d/fold_1/epoch=27-val_acc1=0.8070.ckpt')\n",
    "model.to(conf.train.device)\n",
    "model.freeze()\n",
    "\n",
    "for i, dl in enumerate(stratified_loaders(conf), 1):\n",
    "    print(f'fold {i}')\n",
    "    x, y = next(iter(dl['train']))\n",
    "    y_out = model(x.to(conf.train.device))\n",
    "    print(accuracy(y_out.cpu(), y.cpu()))\n",
    "    print(x.size(), y.size())\n",
    "    x, y = next(iter(dl['val']))\n",
    "    y_out = model(x.to(conf.train.device))\n",
    "    print(accuracy(y_out.cpu(), y.cpu()))\n",
    "    print(x.size(), y.size())\n",
    "    x = next(iter(dl['test']))\n",
    "    print(x.size())"
   ],
   "metadata": {
    "collapsed": false,
    "pycharm": {
     "name": "#%%\n",
     "is_executing": true
    }
   }
  },
  {
   "cell_type": "code",
   "execution_count": null,
   "outputs": [],
   "source": [
    "# test model accuracy from checkpoints\n",
    "import numpy as np\n",
    "from v2.utils import accuracy\n",
    "from v2.runner import Model\n",
    "# testing dataloaders\n",
    "from v2.config import DefaultConfig\n",
    "from v2.dataloader import stratified_loaders\n",
    "conf = DefaultConfig()\n",
    "model = Model.load_from_checkpoint('tb_logs/resnext101_32x4d/fold_1/epoch=27-val_acc1=0.8070.ckpt')\n",
    "model.to(conf.train.device)\n",
    "model.freeze()\n",
    "\n",
    "preds = []\n",
    "for i, dl in enumerate(stratified_loaders(conf), 1):\n",
    "    for x in dl['test']:\n",
    "        y_pred = model(x.to(conf.train.device)).softmax(1)\n",
    "        preds.append(y_pred.cpu().numpy())\n",
    "        print(y_pred.shape)\n",
    "    break\n",
    "preds = np.concatenate(preds, axis=0)"
   ],
   "metadata": {
    "collapsed": false,
    "pycharm": {
     "name": "#%%\n",
     "is_executing": true
    }
   }
  },
  {
   "cell_type": "code",
   "execution_count": 1,
   "outputs": [
    {
     "name": "stdout",
     "output_type": "stream",
     "text": [
      "Result saved as sbm.csv\r\n"
     ]
    }
   ],
   "source": [
    "!python -W ignore submit.py"
   ],
   "metadata": {
    "collapsed": false,
    "pycharm": {
     "name": "#%%\n"
    }
   }
  },
  {
   "cell_type": "code",
   "execution_count": 1,
   "outputs": [],
   "source": [
    "!cp sbm.csv sbm1.csv"
   ],
   "metadata": {
    "collapsed": false,
    "pycharm": {
     "name": "#%%\n"
    }
   }
  },
  {
   "cell_type": "code",
   "execution_count": 5,
   "outputs": [
    {
     "data": {
      "text/plain": "torch.Size([3, 64, 300])"
     },
     "execution_count": 5,
     "metadata": {},
     "output_type": "execute_result"
    }
   ],
   "source": [
    "# check augmentation\n",
    "import torch\n",
    "from v2.misc import augment\n",
    "augment['train']['logmel'](torch.rand(3, 64, 150)).size()"
   ],
   "metadata": {
    "collapsed": false,
    "pycharm": {
     "name": "#%%\n"
    }
   }
  },
  {
   "cell_type": "code",
   "execution_count": null,
   "outputs": [],
   "source": [
    "\n"
   ],
   "metadata": {
    "collapsed": false,
    "pycharm": {
     "name": "#%%\n"
    }
   }
  }
 ],
 "metadata": {
  "kernelspec": {
   "display_name": "Python 3",
   "language": "python",
   "name": "python3"
  },
  "language_info": {
   "codemirror_mode": {
    "name": "ipython",
    "version": 2
   },
   "file_extension": ".py",
   "mimetype": "text/x-python",
   "name": "python",
   "nbconvert_exporter": "python",
   "pygments_lexer": "ipython2",
   "version": "2.7.6"
  }
 },
 "nbformat": 4,
 "nbformat_minor": 0
}